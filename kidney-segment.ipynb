{
 "cells": [
  {
   "cell_type": "code",
   "execution_count": 1,
   "id": "japanese-testament",
   "metadata": {
    "_cell_guid": "b1076dfc-b9ad-4769-8c92-a6c4dae69d19",
    "_uuid": "8f2839f25d086af736a60e9eeb907d3b93b6e0e5",
    "execution": {
     "iopub.execute_input": "2021-06-08T17:39:38.640892Z",
     "iopub.status.busy": "2021-06-08T17:39:38.639394Z",
     "iopub.status.idle": "2021-06-08T17:39:38.644056Z",
     "shell.execute_reply": "2021-06-08T17:39:38.643561Z",
     "shell.execute_reply.started": "2021-06-08T10:01:54.751064Z"
    },
    "papermill": {
     "duration": 0.03925,
     "end_time": "2021-06-08T17:39:38.644385",
     "exception": false,
     "start_time": "2021-06-08T17:39:38.605135",
     "status": "completed"
    },
    "tags": []
   },
   "outputs": [],
   "source": [
    "# This Python 3 environment comes with many helpful analytics libraries installed\n",
    "# It is defined by the kaggle/python Docker image: https://github.com/kaggle/docker-python\n",
    "# For example, here's several helpful packages to load\n",
    "\n",
    "import numpy as np # linear algebra\n",
    "import pandas as pd # data processing, CSV file I/O (e.g. pd.read_csv)\n",
    "\n",
    "# Input data files are available in the read-only \"../input/\" directory\n",
    "# For example, running this (by clicking run or pressing Shift+Enter) will list all files under the input directory\n",
    "\n",
    "import os\n",
    "# for dirname, _, filenames in os.walk('/kaggle/input'):\n",
    "#     for filename in filenames:\n",
    "#         print(os.path.join(dirname, filename))\n",
    "\n",
    "# You can write up to 20GB to the current directory (/kaggle/working/) that gets preserved as output when you create a version using \"Save & Run All\" \n",
    "# You can also write temporary files to /kaggle/temp/, but they won't be saved outside of the current session"
   ]
  },
  {
   "cell_type": "code",
   "execution_count": 2,
   "id": "finite-antibody",
   "metadata": {
    "execution": {
     "iopub.execute_input": "2021-06-08T17:39:38.707792Z",
     "iopub.status.busy": "2021-06-08T17:39:38.707177Z",
     "iopub.status.idle": "2021-06-08T17:39:44.630372Z",
     "shell.execute_reply": "2021-06-08T17:39:44.629881Z",
     "shell.execute_reply.started": "2021-06-08T10:01:57.209631Z"
    },
    "papermill": {
     "duration": 5.956021,
     "end_time": "2021-06-08T17:39:44.630520",
     "exception": false,
     "start_time": "2021-06-08T17:39:38.674499",
     "status": "completed"
    },
    "tags": []
   },
   "outputs": [],
   "source": [
    "import cv2\n",
    "import json\n",
    "import tifffile as tiff\n",
    "import matplotlib.pyplot as plt\n",
    "import pickle\n",
    "import rasterio\n",
    "from rasterio.windows import Window\n",
    "import tensorflow as tf\n",
    "# tf.debugging.set_log_device_placement(True)\n",
    "import tensorflow_addons as tfa"
   ]
  },
  {
   "cell_type": "code",
   "execution_count": 3,
   "id": "dietary-lunch",
   "metadata": {
    "execution": {
     "iopub.execute_input": "2021-06-08T17:39:45.257117Z",
     "iopub.status.busy": "2021-06-08T17:39:45.256467Z",
     "iopub.status.idle": "2021-06-08T17:39:45.262097Z",
     "shell.execute_reply": "2021-06-08T17:39:45.261274Z",
     "shell.execute_reply.started": "2021-06-08T10:02:05.055133Z"
    },
    "papermill": {
     "duration": 0.601951,
     "end_time": "2021-06-08T17:39:45.262243",
     "exception": false,
     "start_time": "2021-06-08T17:39:44.660292",
     "status": "completed"
    },
    "tags": []
   },
   "outputs": [
    {
     "name": "stdout",
     "output_type": "stream",
     "text": [
      "device available: PhysicalDevice(name='/physical_device:GPU:0', device_type='GPU')\n"
     ]
    }
   ],
   "source": [
    "gpu_devices = tf.config.experimental.list_physical_devices('GPU')\n",
    "# print(gpu_devices)\n",
    "if gpu_devices:\n",
    "    for gpu_device in gpu_devices:\n",
    "        print('device available:', gpu_device)"
   ]
  },
  {
   "cell_type": "code",
   "execution_count": 4,
   "id": "strategic-malpractice",
   "metadata": {
    "execution": {
     "iopub.execute_input": "2021-06-08T17:39:45.325080Z",
     "iopub.status.busy": "2021-06-08T17:39:45.324428Z",
     "iopub.status.idle": "2021-06-08T17:39:45.327205Z",
     "shell.execute_reply": "2021-06-08T17:39:45.326769Z",
     "shell.execute_reply.started": "2021-06-08T10:02:07.617618Z"
    },
    "papermill": {
     "duration": 0.035257,
     "end_time": "2021-06-08T17:39:45.327310",
     "exception": false,
     "start_time": "2021-06-08T17:39:45.292053",
     "status": "completed"
    },
    "tags": []
   },
   "outputs": [],
   "source": [
    "MASKS = '../input/hubmap-kidney-segmentation/train.csv'\n",
    "DATA = '../input/hubmap-kidney-segmentation/train/'"
   ]
  },
  {
   "cell_type": "code",
   "execution_count": 5,
   "id": "everyday-tours",
   "metadata": {
    "execution": {
     "iopub.execute_input": "2021-06-08T17:39:45.391084Z",
     "iopub.status.busy": "2021-06-08T17:39:45.390555Z",
     "iopub.status.idle": "2021-06-08T17:39:45.765218Z",
     "shell.execute_reply": "2021-06-08T17:39:45.764743Z",
     "shell.execute_reply.started": "2021-06-08T10:02:09.851453Z"
    },
    "papermill": {
     "duration": 0.409118,
     "end_time": "2021-06-08T17:39:45.765338",
     "exception": false,
     "start_time": "2021-06-08T17:39:45.356220",
     "status": "completed"
    },
    "tags": []
   },
   "outputs": [
    {
     "data": {
      "text/html": [
       "<div>\n",
       "<style scoped>\n",
       "    .dataframe tbody tr th:only-of-type {\n",
       "        vertical-align: middle;\n",
       "    }\n",
       "\n",
       "    .dataframe tbody tr th {\n",
       "        vertical-align: top;\n",
       "    }\n",
       "\n",
       "    .dataframe thead th {\n",
       "        text-align: right;\n",
       "    }\n",
       "</style>\n",
       "<table border=\"1\" class=\"dataframe\">\n",
       "  <thead>\n",
       "    <tr style=\"text-align: right;\">\n",
       "      <th></th>\n",
       "      <th>encoding</th>\n",
       "    </tr>\n",
       "    <tr>\n",
       "      <th>id</th>\n",
       "      <th></th>\n",
       "    </tr>\n",
       "  </thead>\n",
       "  <tbody>\n",
       "    <tr>\n",
       "      <th>2f6ecfcdf</th>\n",
       "      <td>296084587 4 296115835 6 296115859 14 296147109...</td>\n",
       "    </tr>\n",
       "    <tr>\n",
       "      <th>8242609fa</th>\n",
       "      <td>96909968 56 96941265 60 96972563 64 97003861 6...</td>\n",
       "    </tr>\n",
       "    <tr>\n",
       "      <th>aaa6a05cc</th>\n",
       "      <td>30989109 59 31007591 64 31026074 68 31044556 7...</td>\n",
       "    </tr>\n",
       "    <tr>\n",
       "      <th>cb2d976f4</th>\n",
       "      <td>78144363 5 78179297 15 78214231 25 78249165 35...</td>\n",
       "    </tr>\n",
       "    <tr>\n",
       "      <th>b9a3865fc</th>\n",
       "      <td>61271840 4 61303134 13 61334428 22 61365722 30...</td>\n",
       "    </tr>\n",
       "  </tbody>\n",
       "</table>\n",
       "</div>"
      ],
      "text/plain": [
       "                                                    encoding\n",
       "id                                                          \n",
       "2f6ecfcdf  296084587 4 296115835 6 296115859 14 296147109...\n",
       "8242609fa  96909968 56 96941265 60 96972563 64 97003861 6...\n",
       "aaa6a05cc  30989109 59 31007591 64 31026074 68 31044556 7...\n",
       "cb2d976f4  78144363 5 78179297 15 78214231 25 78249165 35...\n",
       "b9a3865fc  61271840 4 61303134 13 61334428 22 61365722 30..."
      ]
     },
     "execution_count": 5,
     "metadata": {},
     "output_type": "execute_result"
    }
   ],
   "source": [
    "masks_df = pd.read_csv(MASKS).set_index('id')\n",
    "# mask_df\n",
    "masks_df.head()"
   ]
  },
  {
   "cell_type": "code",
   "execution_count": 6,
   "id": "worth-wisconsin",
   "metadata": {
    "execution": {
     "iopub.execute_input": "2021-06-08T17:39:45.828257Z",
     "iopub.status.busy": "2021-06-08T17:39:45.827704Z",
     "iopub.status.idle": "2021-06-08T17:39:45.831363Z",
     "shell.execute_reply": "2021-06-08T17:39:45.830864Z",
     "shell.execute_reply.started": "2021-06-08T10:02:21.659157Z"
    },
    "papermill": {
     "duration": 0.036733,
     "end_time": "2021-06-08T17:39:45.831521",
     "exception": false,
     "start_time": "2021-06-08T17:39:45.794788",
     "status": "completed"
    },
    "tags": []
   },
   "outputs": [],
   "source": [
    "sz = 256   #the size of tiles\n",
    "reduce = 4 #reduce the original images by 4 times \n",
    "MASKS = '../input/hubmap-kidney-segmentation/train.csv'\n",
    "DATA = '../input/hubmap-kidney-segmentation/train/'\n",
    "OUT_TRAIN = 'train.zip'\n",
    "OUT_MASKS = 'masks.zip'"
   ]
  },
  {
   "cell_type": "code",
   "execution_count": 7,
   "id": "rapid-rhythm",
   "metadata": {
    "execution": {
     "iopub.execute_input": "2021-06-08T17:39:45.900967Z",
     "iopub.status.busy": "2021-06-08T17:39:45.900406Z",
     "iopub.status.idle": "2021-06-08T17:39:45.903678Z",
     "shell.execute_reply": "2021-06-08T17:39:45.903248Z",
     "shell.execute_reply.started": "2021-06-08T10:02:24.547789Z"
    },
    "papermill": {
     "duration": 0.043192,
     "end_time": "2021-06-08T17:39:45.903781",
     "exception": false,
     "start_time": "2021-06-08T17:39:45.860589",
     "status": "completed"
    },
    "tags": []
   },
   "outputs": [],
   "source": [
    "#functions to convert encoding to mask and mask to encoding\n",
    "def enc2mask(encs, shape):\n",
    "    img = np.zeros(shape[0]*shape[1], dtype=np.uint8)\n",
    "    for m,enc in enumerate(encs):\n",
    "        if isinstance(enc,np.float) and np.isnan(enc): continue\n",
    "        s = enc.split()\n",
    "        for i in range(len(s)//2):\n",
    "            start = int(s[2*i]) - 1\n",
    "            length = int(s[2*i+1])\n",
    "            img[start:start+length] = 1 + m\n",
    "    return img.reshape(shape).T\n",
    "\n",
    "def mask2enc(mask, n=1):\n",
    "    pixels = mask.T.flatten()\n",
    "    encs = []\n",
    "    for i in range(1,n+1):\n",
    "        p = (pixels == i).astype(np.int8)\n",
    "        if p.sum() == 0: encs.append(np.nan)\n",
    "        else:\n",
    "            p = np.concatenate([[0], p, [0]])\n",
    "            runs = np.where(p[1:] != p[:-1])[0] + 1\n",
    "            runs[1::2] -= runs[::2]\n",
    "            encs.append(' '.join(str(x) for x in runs))\n",
    "    return encs\n",
    "\n",
    "def rle_encode_less_memory(img):\n",
    "    #the image should be transposed\n",
    "    pixels = img.T.flatten()\n",
    "    \n",
    "    # This simplified method requires first and last pixel to be zero\n",
    "    pixels[0] = 0\n",
    "    pixels[-1] = 0\n",
    "    runs = np.where(pixels[1:] != pixels[:-1])[0] + 2\n",
    "    runs[1::2] -= runs[::2]\n",
    "    \n",
    "    return ' '.join(str(x) for x in runs)"
   ]
  },
  {
   "cell_type": "code",
   "execution_count": 8,
   "id": "previous-organ",
   "metadata": {
    "execution": {
     "iopub.execute_input": "2021-06-08T17:39:45.970795Z",
     "iopub.status.busy": "2021-06-08T17:39:45.970133Z",
     "iopub.status.idle": "2021-06-08T17:39:45.973648Z",
     "shell.execute_reply": "2021-06-08T17:39:45.973228Z"
    },
    "papermill": {
     "duration": 0.040745,
     "end_time": "2021-06-08T17:39:45.973751",
     "exception": false,
     "start_time": "2021-06-08T17:39:45.933006",
     "status": "completed"
    },
    "tags": []
   },
   "outputs": [],
   "source": [
    "def mask2rle(img):\n",
    "    '''\n",
    "    img: numpy array, 1 - mask, 0 - background\n",
    "    Returns run length as string formated\n",
    "    '''\n",
    "    pixels= img.T.flatten()\n",
    "    pixels = np.concatenate([[0], pixels, [0]])\n",
    "    runs = np.where(pixels[1:] != pixels[:-1])[0] + 1\n",
    "    runs[1::2] -= runs[::2]\n",
    "    return ' '.join(str(x) for x in runs)\n",
    " \n",
    "def rle2mask(mask_rle, shape=(1600,256)):\n",
    "    '''\n",
    "    mask_rle: run-length as string formated (start length)\n",
    "    shape: (width,height) of array to return \n",
    "    Returns numpy array, 1 - mask, 0 - background\n",
    "\n",
    "    '''\n",
    "    s = mask_rle.split()\n",
    "    starts, lengths = [np.asarray(x, dtype=int) for x in (s[0:][::2], s[1:][::2])]\n",
    "    starts -= 1\n",
    "    ends = starts + lengths\n",
    "    img = np.zeros(shape[0]*shape[1], dtype=np.uint8)\n",
    "    for lo, hi in zip(starts, ends):\n",
    "        img[lo:hi] = 1\n",
    "    return img.reshape(shape).T\n"
   ]
  },
  {
   "cell_type": "code",
   "execution_count": 9,
   "id": "foster-theta",
   "metadata": {
    "execution": {
     "iopub.execute_input": "2021-06-08T17:39:46.051237Z",
     "iopub.status.busy": "2021-06-08T17:39:46.050486Z",
     "iopub.status.idle": "2021-06-08T17:39:46.053953Z",
     "shell.execute_reply": "2021-06-08T17:39:46.053521Z",
     "shell.execute_reply.started": "2021-06-08T10:02:30.688864Z"
    },
    "papermill": {
     "duration": 0.050842,
     "end_time": "2021-06-08T17:39:46.054064",
     "exception": false,
     "start_time": "2021-06-08T17:39:46.003222",
     "status": "completed"
    },
    "tags": []
   },
   "outputs": [],
   "source": [
    "s_th = 40  #saturation blancking threshold\n",
    "p_th = 1000*(sz//256)**2 #threshold for the minimum number of pixels\n",
    "\n",
    "# class HuBMAPDataset(Dataset):\n",
    "class HuBMAPDataset:\n",
    "    def __init__(self, idx, sz=sz, reduce=reduce, encs=None):\n",
    "        self.data = rasterio.open(os.path.join(DATA,idx+'.tiff'),num_threads='all_cpus')\n",
    "        # some images have issues with their format \n",
    "        # and must be saved correctly before reading with rasterio\n",
    "        if self.data.count != 3:\n",
    "            subdatasets = self.data.subdatasets\n",
    "            self.layers = []\n",
    "            if len(subdatasets) > 0:\n",
    "                for i, subdataset in enumerate(subdatasets, 0):\n",
    "                    self.layers.append(rasterio.open(subdataset))\n",
    "        self.shape = self.data.shape\n",
    "        self.reduce = reduce\n",
    "        self.sz = reduce*sz\n",
    "        self.pad0 = (self.sz - self.shape[0]%self.sz)%self.sz\n",
    "        self.pad1 = (self.sz - self.shape[1]%self.sz)%self.sz\n",
    "        self.n0max = (self.shape[0] + self.pad0)//self.sz # no of tiles along image rows\n",
    "        self.n1max = (self.shape[1] + self.pad1)//self.sz # no of tiles along image cols\n",
    "        self.mask = enc2mask(encs,(self.shape[1],self.shape[0])) if encs is not None else None\n",
    "                \n",
    "    def __len__(self):\n",
    "        return self.n0max*self.n1max # total no of tiles\n",
    "    \n",
    "    def __getitem__(self, idx):\n",
    "        # the code below may be a little bit difficult to understand,\n",
    "        # but the thing it does is mapping the original image to\n",
    "        # tiles created with adding padding (like in the previous version of the kernel)\n",
    "        # then the tiles are loaded with rasterio\n",
    "        # n0,n1 - are the x and y index of the tile (idx = n0*self.n1max + n1)\n",
    "        n0,n1 = idx//self.n1max, idx%self.n1max\n",
    "        # x0,y0 - are the coordinates of the lower left corner of the tile in the image\n",
    "        # negative numbers correspond to padding (which must not be loaded)\n",
    "        x0,y0 = -self.pad0//2 + n0*self.sz, -self.pad1//2 + n1*self.sz\n",
    "\n",
    "        # make sure that the region to read is within the image\n",
    "        p00,p01 = max(0,x0), min(x0+self.sz,self.shape[0])\n",
    "        p10,p11 = max(0,y0), min(y0+self.sz,self.shape[1])\n",
    "        img = np.zeros((self.sz,self.sz,3),np.uint8)\n",
    "        mask = np.zeros((self.sz,self.sz),np.uint8)\n",
    "        # mapping the loaded region to the tile\n",
    "        if self.data.count == 3:\n",
    "            img[(p00-x0):(p01-x0),(p10-y0):(p11-y0)] = np.moveaxis(self.data.read([1,2,3],\n",
    "                window=Window.from_slices((p00,p01),(p10,p11))), 0, -1)\n",
    "        else:\n",
    "            for i,layer in enumerate(self.layers):\n",
    "                img[(p00-x0):(p01-x0),(p10-y0):(p11-y0),i] =\\\n",
    "                  layer.read(1,window=Window.from_slices((p00,p01),(p10,p11)))\n",
    "        if self.mask is not None: mask[(p00-x0):(p01-x0),(p10-y0):(p11-y0)] = self.mask[p00:p01,p10:p11]\n",
    "        \n",
    "        if self.reduce != 1:\n",
    "            img = cv2.resize(img,(self.sz//reduce,self.sz//reduce),\n",
    "                             interpolation = cv2.INTER_AREA)\n",
    "            mask = cv2.resize(mask,(self.sz//reduce,self.sz//reduce),\n",
    "                             interpolation = cv2.INTER_NEAREST)\n",
    "        #check for empty imges\n",
    "        hsv = cv2.cvtColor(img, cv2.COLOR_BGR2HSV)\n",
    "        h,s,v = cv2.split(hsv)\n",
    "        #return -1 for empty images\n",
    "        return img, mask, (-1 if (s>s_th).sum() <= p_th or img.sum() <= p_th else idx)"
   ]
  },
  {
   "cell_type": "markdown",
   "id": "complex-pharmacy",
   "metadata": {
    "papermill": {
     "duration": 0.029457,
     "end_time": "2021-06-08T17:39:46.113706",
     "exception": false,
     "start_time": "2021-06-08T17:39:46.084249",
     "status": "completed"
    },
    "tags": []
   },
   "source": [
    "# Create the zipped files of 256x256 images"
   ]
  },
  {
   "cell_type": "code",
   "execution_count": 10,
   "id": "tutorial-dallas",
   "metadata": {
    "execution": {
     "iopub.execute_input": "2021-06-08T17:39:46.181806Z",
     "iopub.status.busy": "2021-06-08T17:39:46.181110Z",
     "iopub.status.idle": "2021-06-08T17:51:56.919344Z",
     "shell.execute_reply": "2021-06-08T17:51:56.919839Z"
    },
    "papermill": {
     "duration": 730.776629,
     "end_time": "2021-06-08T17:51:56.920016",
     "exception": false,
     "start_time": "2021-06-08T17:39:46.143387",
     "status": "completed"
    },
    "tags": []
   },
   "outputs": [
    {
     "data": {
      "application/vnd.jupyter.widget-view+json": {
       "model_id": "609a5736b81a4963816dff3dccb4851a",
       "version_major": 2,
       "version_minor": 0
      },
      "text/plain": [
       "  0%|          | 0/15 [00:00<?, ?it/s]"
      ]
     },
     "metadata": {},
     "output_type": "display_data"
    },
    {
     "name": "stderr",
     "output_type": "stream",
     "text": [
      "/opt/conda/lib/python3.7/site-packages/rasterio/__init__.py:207: NotGeoreferencedWarning: Dataset has no geotransform, gcps, or rpcs. The identity matrix be returned.\n",
      "  s = DatasetReader(path, driver=driver, sharing=sharing, **kwargs)\n"
     ]
    },
    {
     "name": "stdout",
     "output_type": "stream",
     "text": [
      "mean: [0.63701495 0.4709702  0.6817423 ] , std: [0.15978882 0.2245109  0.14173926]\n"
     ]
    }
   ],
   "source": [
    "import zipfile\n",
    "from tqdm.notebook import tqdm\n",
    "\n",
    "x_tot,x2_tot = [],[]\n",
    "with zipfile.ZipFile(OUT_TRAIN, 'w') as img_out,\\\n",
    " zipfile.ZipFile(OUT_MASKS, 'w') as mask_out:\n",
    "    for index, encs in tqdm(masks_df.iterrows(),total=len(masks_df)):\n",
    "        #image+mask dataset\n",
    "        ds = HuBMAPDataset(index,encs=encs)\n",
    "        for i in range(len(ds)):\n",
    "            im,m,idx = ds[i]\n",
    "            if idx < 0: continue\n",
    "                \n",
    "            x_tot.append((im/255.0).reshape(-1,3).mean(0))\n",
    "            x2_tot.append(((im/255.0)**2).reshape(-1,3).mean(0))\n",
    "            \n",
    "            #write data   \n",
    "            im = cv2.imencode('.png',cv2.cvtColor(im, cv2.COLOR_RGB2BGR))[1] #Why?\n",
    "            img_out.writestr(f'{index}_{idx:04d}.png', im)\n",
    "            m = cv2.imencode('.png',m)[1]\n",
    "            mask_out.writestr(f'{index}_{idx:04d}.png', m)\n",
    "        \n",
    "#image stats\n",
    "img_avr =  np.array(x_tot).mean(0)\n",
    "img_std =  np.sqrt(np.array(x2_tot).mean(0) - img_avr**2)\n",
    "print('mean:',img_avr, ', std:', img_std)"
   ]
  },
  {
   "cell_type": "code",
   "execution_count": 11,
   "id": "dependent-lodge",
   "metadata": {
    "execution": {
     "iopub.execute_input": "2021-06-08T17:51:56.997384Z",
     "iopub.status.busy": "2021-06-08T17:51:56.996471Z",
     "iopub.status.idle": "2021-06-08T17:51:56.998796Z",
     "shell.execute_reply": "2021-06-08T17:51:56.999232Z"
    },
    "papermill": {
     "duration": 0.043027,
     "end_time": "2021-06-08T17:51:56.999410",
     "exception": false,
     "start_time": "2021-06-08T17:51:56.956383",
     "status": "completed"
    },
    "tags": []
   },
   "outputs": [],
   "source": [
    "mean = [0.63701495, 0.4709702,  0.6817423 ] \n",
    "std = [0.15978882, 0.2245109,  0.14173926]"
   ]
  },
  {
   "cell_type": "markdown",
   "id": "nuclear-error",
   "metadata": {
    "papermill": {
     "duration": 0.03511,
     "end_time": "2021-06-08T17:51:57.069742",
     "exception": false,
     "start_time": "2021-06-08T17:51:57.034632",
     "status": "completed"
    },
    "tags": []
   },
   "source": [
    "# Setup for creating TFRecords"
   ]
  },
  {
   "cell_type": "code",
   "execution_count": 12,
   "id": "exact-demand",
   "metadata": {
    "execution": {
     "iopub.execute_input": "2021-06-08T17:51:57.149063Z",
     "iopub.status.busy": "2021-06-08T17:51:57.148400Z",
     "iopub.status.idle": "2021-06-08T17:51:57.152076Z",
     "shell.execute_reply": "2021-06-08T17:51:57.151599Z",
     "shell.execute_reply.started": "2021-06-08T10:02:37.031245Z"
    },
    "papermill": {
     "duration": 0.046013,
     "end_time": "2021-06-08T17:51:57.152208",
     "exception": false,
     "start_time": "2021-06-08T17:51:57.106195",
     "status": "completed"
    },
    "tags": []
   },
   "outputs": [],
   "source": [
    "def _bytes_feature(value): # Could we have used a float feature?\n",
    "  '''Returns a bytes_list from a string / byte.'''\n",
    "  if isinstance(value, type(tf.constant(0))):\n",
    "    value = value.numpy() # BytesList won't unpack a string from an EagerTensor.\n",
    "  return tf.train.Feature(bytes_list=tf.train.BytesList(value=[value]))\n",
    "\n",
    "def serialize_example(image, mask):\n",
    "  \"\"\"\n",
    "  Creates a tf.train.Example message ready to be written to a file.\n",
    "  \"\"\"\n",
    "  # Create a dictionary mapping the feature name to the tf.train.Example-compatible\n",
    "  # data type.\n",
    "  feature = {\n",
    "      'image': _bytes_feature(image),\n",
    "      'mask': _bytes_feature(mask),\n",
    "  }\n",
    "\n",
    "  # Create a Features message using tf.train.Example.\n",
    "\n",
    "  example_proto = tf.train.Example(features=tf.train.Features(feature=feature))\n",
    "  return example_proto.SerializeToString()"
   ]
  },
  {
   "cell_type": "markdown",
   "id": "fancy-payday",
   "metadata": {
    "papermill": {
     "duration": 0.035486,
     "end_time": "2021-06-08T17:51:57.222794",
     "exception": false,
     "start_time": "2021-06-08T17:51:57.187308",
     "status": "completed"
    },
    "tags": []
   },
   "source": [
    "# Create loop for saving tfrecords"
   ]
  },
  {
   "cell_type": "code",
   "execution_count": 13,
   "id": "behind-charleston",
   "metadata": {
    "execution": {
     "iopub.execute_input": "2021-06-08T17:51:57.325740Z",
     "iopub.status.busy": "2021-06-08T17:51:57.300442Z",
     "iopub.status.idle": "2021-06-08T18:02:31.454917Z",
     "shell.execute_reply": "2021-06-08T18:02:31.453558Z",
     "shell.execute_reply.started": "2021-06-08T10:02:40.277220Z"
    },
    "papermill": {
     "duration": 634.197149,
     "end_time": "2021-06-08T18:02:31.455034",
     "exception": false,
     "start_time": "2021-06-08T17:51:57.257885",
     "status": "completed"
    },
    "tags": []
   },
   "outputs": [
    {
     "data": {
      "application/vnd.jupyter.widget-view+json": {
       "model_id": "8af55f3e0e1d4de180bf32779f2b6cbd",
       "version_major": 2,
       "version_minor": 0
      },
      "text/plain": [
       "  0%|          | 0/15 [00:00<?, ?it/s]"
      ]
     },
     "metadata": {},
     "output_type": "display_data"
    }
   ],
   "source": [
    "from tqdm.notebook import tqdm\n",
    "import gc\n",
    "\n",
    "if not os.path.exists('tfrecs'):\n",
    "    os.makedirs('tfrecs')\n",
    "\n",
    "for index, encs in tqdm(masks_df.iterrows(),total=len(masks_df)):\n",
    "    ds = HuBMAPDataset(index, encs=encs)\n",
    "    filename = 'tfrecs/'+index+'.tfrec'\n",
    "    cnt = 0\n",
    "    with tf.io.TFRecordWriter(filename) as writer:\n",
    "        \n",
    "        for i in range(len(ds)):\n",
    "            im, m, flag = ds[i]\n",
    "            \n",
    "            if flag<0:continue\n",
    "            \n",
    "            im = cv2.cvtColor(im, cv2.COLOR_RGB2BGR)\n",
    "            example = serialize_example(im.tobytes(), m.tobytes())\n",
    "            writer.write(example)\n",
    "            cnt+=1\n",
    "        \n",
    "    os.rename(filename, 'tfrecs/'+ index + '-'+str(cnt) +'.tfrec')\n",
    "    gc.collect()"
   ]
  },
  {
   "cell_type": "code",
   "execution_count": 14,
   "id": "judicial-columbus",
   "metadata": {
    "execution": {
     "iopub.execute_input": "2021-06-08T18:02:31.527636Z",
     "iopub.status.busy": "2021-06-08T18:02:31.527045Z",
     "iopub.status.idle": "2021-06-08T18:02:31.531654Z",
     "shell.execute_reply": "2021-06-08T18:02:31.531253Z",
     "shell.execute_reply.started": "2021-06-08T10:15:12.978112Z"
    },
    "papermill": {
     "duration": 0.039824,
     "end_time": "2021-06-08T18:02:31.531764",
     "exception": false,
     "start_time": "2021-06-08T18:02:31.491940",
     "status": "completed"
    },
    "tags": []
   },
   "outputs": [
    {
     "name": "stdout",
     "output_type": "stream",
     "text": [
      "[PhysicalDevice(name='/physical_device:CPU:0', device_type='CPU')] [PhysicalDevice(name='/physical_device:GPU:0', device_type='GPU')]\n"
     ]
    }
   ],
   "source": [
    "cpus = tf.config.list_physical_devices('CPU')\n",
    "gpus = tf.config.list_physical_devices('GPU')\n",
    "print(cpus, gpus)"
   ]
  },
  {
   "cell_type": "markdown",
   "id": "spare-process",
   "metadata": {
    "papermill": {
     "duration": 0.030904,
     "end_time": "2021-06-08T18:02:31.593798",
     "exception": false,
     "start_time": "2021-06-08T18:02:31.562894",
     "status": "completed"
    },
    "tags": []
   },
   "source": [
    "# Trying out sample code for learning and understanding purposes"
   ]
  },
  {
   "cell_type": "code",
   "execution_count": 15,
   "id": "differential-focus",
   "metadata": {
    "execution": {
     "iopub.execute_input": "2021-06-08T18:02:31.665579Z",
     "iopub.status.busy": "2021-06-08T18:02:31.664917Z",
     "iopub.status.idle": "2021-06-08T18:02:32.607485Z",
     "shell.execute_reply": "2021-06-08T18:02:32.607049Z",
     "shell.execute_reply.started": "2021-06-03T19:25:52.097873Z"
    },
    "papermill": {
     "duration": 0.982687,
     "end_time": "2021-06-08T18:02:32.607608",
     "exception": false,
     "start_time": "2021-06-08T18:02:31.624921",
     "status": "completed"
    },
    "tags": []
   },
   "outputs": [
    {
     "name": "stdout",
     "output_type": "stream",
     "text": [
      "tf.Tensor(\n",
      "[[22. 28.]\n",
      " [49. 64.]], shape=(2, 2), dtype=float32)\n"
     ]
    }
   ],
   "source": [
    "import tensorflow as tf\n",
    "tf.debugging.set_log_device_placement(True)\n",
    "with tf.device('/GPU:0'):\n",
    "    a = tf.constant([[1.0, 2.0, 3.0], [4.0, 5.0, 6.0]])\n",
    "    b = tf.constant([[1.0, 2.0], [3.0, 4.0], [5.0, 6.0]])\n",
    "c = tf.matmul(a, b)\n",
    "print(c)"
   ]
  },
  {
   "cell_type": "code",
   "execution_count": 16,
   "id": "behavioral-raleigh",
   "metadata": {
    "execution": {
     "iopub.execute_input": "2021-06-08T18:02:32.676779Z",
     "iopub.status.busy": "2021-06-08T18:02:32.676186Z",
     "iopub.status.idle": "2021-06-08T18:02:32.687892Z",
     "shell.execute_reply": "2021-06-08T18:02:32.686955Z",
     "shell.execute_reply.started": "2021-06-03T19:25:56.030455Z"
    },
    "papermill": {
     "duration": 0.048286,
     "end_time": "2021-06-08T18:02:32.688001",
     "exception": false,
     "start_time": "2021-06-08T18:02:32.639715",
     "status": "completed"
    },
    "tags": []
   },
   "outputs": [],
   "source": [
    "with tf.device('/GPU:0'):\n",
    "    aa = tf.data.Dataset.from_tensor_slices(c)\n",
    "# ASK: This gives:-\n",
    "# Executing op TensorSliceDataset in device /job:localhost/replica:0/task:0/device:CPU:0\n",
    "# Even though I have enabled GPU."
   ]
  },
  {
   "cell_type": "code",
   "execution_count": 17,
   "id": "affecting-opposition",
   "metadata": {
    "execution": {
     "iopub.execute_input": "2021-06-08T18:02:32.757952Z",
     "iopub.status.busy": "2021-06-08T18:02:32.756288Z",
     "iopub.status.idle": "2021-06-08T18:02:32.761057Z",
     "shell.execute_reply": "2021-06-08T18:02:32.761632Z",
     "shell.execute_reply.started": "2021-06-03T19:26:01.932724Z"
    },
    "papermill": {
     "duration": 0.04158,
     "end_time": "2021-06-08T18:02:32.761805",
     "exception": false,
     "start_time": "2021-06-08T18:02:32.720225",
     "status": "completed"
    },
    "tags": []
   },
   "outputs": [
    {
     "name": "stdout",
     "output_type": "stream",
     "text": [
      "tf.Tensor(\n",
      "[[22. 28.]\n",
      " [49. 64.]], shape=(2, 2), dtype=float32)\n"
     ]
    }
   ],
   "source": [
    "# tf.debugging.set_log_device_placement(True)\n",
    "\n",
    "# Create some tensors\n",
    "a = tf.constant([[1.0, 2.0, 3.0], [4.0, 5.0, 6.0]])\n",
    "b = tf.constant([[1.0, 2.0], [3.0, 4.0], [5.0, 6.0]])\n",
    "c = tf.matmul(a, b)\n",
    "\n",
    "print(c)"
   ]
  },
  {
   "cell_type": "markdown",
   "id": "aggressive-evaluation",
   "metadata": {
    "papermill": {
     "duration": 0.031642,
     "end_time": "2021-06-08T18:02:32.826254",
     "exception": false,
     "start_time": "2021-06-08T18:02:32.794612",
     "status": "completed"
    },
    "tags": []
   },
   "source": [
    "# ASK: (OR LOOK AT LATER)\n",
    "'By default, TensorFlow maps nearly all of the GPU memory of all GPUs (subject to CUDA_VISIBLE_DEVICES) visible to the process meaning' (from tensorflow doc page).\n",
    "https://www.tensorflow.org/api_docs/python/tf/device"
   ]
  },
  {
   "cell_type": "markdown",
   "id": "organizational-steel",
   "metadata": {
    "papermill": {
     "duration": 0.031457,
     "end_time": "2021-06-08T18:02:32.889679",
     "exception": false,
     "start_time": "2021-06-08T18:02:32.858222",
     "status": "completed"
    },
    "tags": []
   },
   "source": [
    "# Load dataset from TFRecords"
   ]
  },
  {
   "cell_type": "code",
   "execution_count": 18,
   "id": "novel-alfred",
   "metadata": {
    "execution": {
     "iopub.execute_input": "2021-06-08T18:02:32.957863Z",
     "iopub.status.busy": "2021-06-08T18:02:32.957342Z",
     "iopub.status.idle": "2021-06-08T18:02:32.961239Z",
     "shell.execute_reply": "2021-06-08T18:02:32.960823Z",
     "shell.execute_reply.started": "2021-06-08T10:15:19.886324Z"
    },
    "papermill": {
     "duration": 0.039914,
     "end_time": "2021-06-08T18:02:32.961348",
     "exception": false,
     "start_time": "2021-06-08T18:02:32.921434",
     "status": "completed"
    },
    "tags": []
   },
   "outputs": [],
   "source": [
    "AUTOTUNE = tf.data.experimental.AUTOTUNE\n",
    "BATCH_SIZE = 64\n",
    "val_len = int(len(masks_df) * 0.2)\n",
    "train_len = len(masks_df) - val_len"
   ]
  },
  {
   "cell_type": "code",
   "execution_count": 19,
   "id": "material-liberia",
   "metadata": {
    "execution": {
     "iopub.execute_input": "2021-06-08T18:02:33.033936Z",
     "iopub.status.busy": "2021-06-08T18:02:33.033369Z",
     "iopub.status.idle": "2021-06-08T18:02:42.247106Z",
     "shell.execute_reply": "2021-06-08T18:02:42.246605Z",
     "shell.execute_reply.started": "2021-06-08T08:38:59.365505Z"
    },
    "papermill": {
     "duration": 9.249839,
     "end_time": "2021-06-08T18:02:42.247250",
     "exception": false,
     "start_time": "2021-06-08T18:02:32.997411",
     "status": "completed"
    },
    "tags": []
   },
   "outputs": [],
   "source": [
    "!pip install -q -U albumentations"
   ]
  },
  {
   "cell_type": "code",
   "execution_count": 20,
   "id": "western-atlas",
   "metadata": {
    "execution": {
     "iopub.execute_input": "2021-06-08T18:02:42.318516Z",
     "iopub.status.busy": "2021-06-08T18:02:42.317775Z",
     "iopub.status.idle": "2021-06-08T18:02:42.320767Z",
     "shell.execute_reply": "2021-06-08T18:02:42.320350Z",
     "shell.execute_reply.started": "2021-06-08T10:15:28.100661Z"
    },
    "papermill": {
     "duration": 0.040978,
     "end_time": "2021-06-08T18:02:42.320874",
     "exception": false,
     "start_time": "2021-06-08T18:02:42.279896",
     "status": "completed"
    },
    "tags": []
   },
   "outputs": [],
   "source": [
    "import random"
   ]
  },
  {
   "cell_type": "code",
   "execution_count": 21,
   "id": "abstract-leisure",
   "metadata": {
    "execution": {
     "iopub.execute_input": "2021-06-08T18:02:42.392716Z",
     "iopub.status.busy": "2021-06-08T18:02:42.391862Z",
     "iopub.status.idle": "2021-06-08T18:02:43.790273Z",
     "shell.execute_reply": "2021-06-08T18:02:43.789786Z",
     "shell.execute_reply.started": "2021-06-08T10:15:30.602704Z"
    },
    "papermill": {
     "duration": 1.436599,
     "end_time": "2021-06-08T18:02:43.790435",
     "exception": false,
     "start_time": "2021-06-08T18:02:42.353836",
     "status": "completed"
    },
    "tags": []
   },
   "outputs": [
    {
     "name": "stderr",
     "output_type": "stream",
     "text": [
      "/opt/conda/lib/python3.7/site-packages/albumentations/augmentations/transforms.py:1701: FutureWarning: This class has been deprecated. Please use RandomBrightnessContrast\n",
      "  FutureWarning,\n",
      "/opt/conda/lib/python3.7/site-packages/albumentations/augmentations/transforms.py:1727: FutureWarning: This class has been deprecated. Please use RandomBrightnessContrast\n",
      "  FutureWarning,\n"
     ]
    }
   ],
   "source": [
    "from functools import partial\n",
    "from albumentations import (\n",
    "    Compose, RandomBrightness, JpegCompression, HueSaturationValue, RandomContrast, HorizontalFlip,\n",
    "    Rotate\n",
    ")\n",
    "transforms = Compose([\n",
    "            Rotate(limit=40),\n",
    "            RandomBrightness(limit=0.1),\n",
    "            HueSaturationValue(hue_shift_limit=20, sat_shift_limit=30, val_shift_limit=20, p=0.5),\n",
    "            RandomContrast(limit=0.2, p=0.5),\n",
    "            HorizontalFlip(),\n",
    "        ])"
   ]
  },
  {
   "cell_type": "code",
   "execution_count": 22,
   "id": "motivated-optics",
   "metadata": {
    "execution": {
     "iopub.execute_input": "2021-06-08T18:02:43.878605Z",
     "iopub.status.busy": "2021-06-08T18:02:43.876773Z",
     "iopub.status.idle": "2021-06-08T18:02:43.879154Z",
     "shell.execute_reply": "2021-06-08T18:02:43.879566Z",
     "shell.execute_reply.started": "2021-06-08T11:45:08.308160Z"
    },
    "papermill": {
     "duration": 0.054481,
     "end_time": "2021-06-08T18:02:43.879698",
     "exception": false,
     "start_time": "2021-06-08T18:02:43.825217",
     "status": "completed"
    },
    "tags": []
   },
   "outputs": [],
   "source": [
    "def _parse_image_function(example_proto):\n",
    "    \n",
    "    image_feature_description = {'image':tf.io.FixedLenFeature([], tf.string, default_value=''),\n",
    "                                'mask':tf.io.FixedLenFeature([], tf.string, default_value='')}\n",
    "    \n",
    "    single_sample = tf.io.parse_single_example(example_proto, image_feature_description)\n",
    "#     import pdb;pdb.set_trace()\n",
    "    image = tf.reshape(tf.io.decode_raw(single_sample['image'], out_type=np.dtype('uint8')),(sz, sz, 3))\n",
    "    image = tf.cast(image, 'float32')/255.0 # is casting to float32 the correct way to debug?\n",
    "    mask = tf.reshape(tf.io.decode_raw(single_sample['mask'], out_type='bool'),(sz, sz, 1)) # can we do (sz,sz)?\n",
    "#     mask = tf.cast(mask, 'uint8')\n",
    "    mask = tf.cast(mask, 'float32')\n",
    "    \n",
    "    return image, mask\n",
    "\n",
    "def augment(image, mask):\n",
    "    data = {\"image\":image,\"mask\":mask}\n",
    "    random.seed(11)\n",
    "    transformed = transforms(**data)\n",
    "    transformed_image = transformed[\"image\"]\n",
    "    transformed_mask = transformed[\"mask\"]\n",
    "    return transformed_image, transformed_mask\n",
    "\n",
    "def data_augment(image, mask):\n",
    "    p_spatial = tf.random.uniform([], 0, 1.0, dtype=tf.float32)\n",
    "    p_rotate = tf.random.uniform([], 0, 1.0, dtype=tf.float32)\n",
    "    \n",
    "    \n",
    "    # Flips\n",
    "    if p_spatial >= .2:\n",
    "        image = tf.image.flip_left_right(image)\n",
    "        mask = tf.image.flip_left_right(mask)\n",
    "        image = tf.image.flip_up_down(image)\n",
    "        mask = tf.image.flip_up_down(mask)\n",
    "        \n",
    "        \n",
    "    # Rotates\n",
    "    if p_rotate > .75:\n",
    "        image = tf.image.rot90(image, k=3) # rotate 270º\n",
    "        mask = tf.image.rot90(mask, k=3) # rotate 270º\n",
    "    elif p_rotate > .5:\n",
    "        image = tf.image.rot90(image, k=2) # rotate 180º\n",
    "        mask = tf.image.rot90(mask, k=2) # rotate 180º\n",
    "    elif p_rotate > .25:\n",
    "        image = tf.image.rot90(image, k=1) # rotate 90º\n",
    "        mask = tf.image.rot90(mask, k=1) # rotate 90º\n",
    "\n",
    "    return image, mask\n",
    "\n",
    "def process_aug(image, mask):\n",
    "    aug_img, aug_mask = tf.numpy_function(func=augment, inp=[image, mask], Tout=[tf.float32, tf.float32])\n",
    "    return aug_img, aug_mask\n",
    "\n",
    "def load_dataset(filenames, flag):\n",
    "    dataset = tf.data.TFRecordDataset(filenames)\n",
    "    dataset = dataset.map(lambda ex: _parse_image_function(ex))\n",
    "    if flag==\"TRAIN\":\n",
    "        dataset = dataset.map(data_augment)\n",
    "#         dataset = dataset.map(process_aug)\n",
    "    return dataset\n",
    "\n",
    "def get_dataset(filename, flag):\n",
    "    dataset = load_dataset(filename, flag)\n",
    "    dataset = dataset.shuffle(2048, reshuffle_each_iteration=True)\n",
    "    dataset = dataset.prefetch(buffer_size=AUTOTUNE)\n",
    "    dataset = dataset.batch(BATCH_SIZE)\n",
    "    return dataset"
   ]
  },
  {
   "cell_type": "markdown",
   "id": "surface-norway",
   "metadata": {
    "papermill": {
     "duration": 0.033314,
     "end_time": "2021-06-08T18:02:43.946156",
     "exception": false,
     "start_time": "2021-06-08T18:02:43.912842",
     "status": "completed"
    },
    "tags": []
   },
   "source": [
    "# Training"
   ]
  },
  {
   "cell_type": "code",
   "execution_count": 23,
   "id": "trying-fireplace",
   "metadata": {
    "execution": {
     "iopub.execute_input": "2021-06-08T18:02:44.015609Z",
     "iopub.status.busy": "2021-06-08T18:02:44.014852Z",
     "iopub.status.idle": "2021-06-08T18:02:44.019799Z",
     "shell.execute_reply": "2021-06-08T18:02:44.019392Z",
     "shell.execute_reply.started": "2021-06-08T11:45:13.742481Z"
    },
    "papermill": {
     "duration": 0.040455,
     "end_time": "2021-06-08T18:02:44.019910",
     "exception": false,
     "start_time": "2021-06-08T18:02:43.979455",
     "status": "completed"
    },
    "tags": []
   },
   "outputs": [],
   "source": [
    "FILENAMES = tf.io.gfile.glob(\"./tfrecs/*.tfrec\")\n",
    "TRAIN_FILES = FILENAMES[:train_len]\n",
    "VALID_FILES = FILENAMES[train_len:]"
   ]
  },
  {
   "cell_type": "code",
   "execution_count": 24,
   "id": "wanted-florence",
   "metadata": {
    "execution": {
     "iopub.execute_input": "2021-06-08T18:02:44.090399Z",
     "iopub.status.busy": "2021-06-08T18:02:44.089774Z",
     "iopub.status.idle": "2021-06-08T18:02:44.092974Z",
     "shell.execute_reply": "2021-06-08T18:02:44.093381Z",
     "shell.execute_reply.started": "2021-06-03T19:26:35.544759Z"
    },
    "papermill": {
     "duration": 0.041308,
     "end_time": "2021-06-08T18:02:44.093503",
     "exception": false,
     "start_time": "2021-06-08T18:02:44.052195",
     "status": "completed"
    },
    "tags": []
   },
   "outputs": [
    {
     "data": {
      "text/plain": [
       "['./tfrecs/b9a3865fc-772.tfrec',\n",
       " './tfrecs/54f2eec69-299.tfrec',\n",
       " './tfrecs/2f6ecfcdf-324.tfrec',\n",
       " './tfrecs/b2dc8411c-213.tfrec',\n",
       " './tfrecs/afa5e8098-1125.tfrec',\n",
       " './tfrecs/c68fe75ea-1136.tfrec',\n",
       " './tfrecs/e79de561c-308.tfrec',\n",
       " './tfrecs/aaa6a05cc-134.tfrec',\n",
       " './tfrecs/095bf7a1f-656.tfrec',\n",
       " './tfrecs/8242609fa-770.tfrec',\n",
       " './tfrecs/0486052bb-355.tfrec',\n",
       " './tfrecs/26dc41664-794.tfrec']"
      ]
     },
     "execution_count": 24,
     "metadata": {},
     "output_type": "execute_result"
    }
   ],
   "source": [
    "TRAIN_FILES"
   ]
  },
  {
   "cell_type": "code",
   "execution_count": 25,
   "id": "geographic-headquarters",
   "metadata": {
    "execution": {
     "iopub.execute_input": "2021-06-08T18:02:44.199447Z",
     "iopub.status.busy": "2021-06-08T18:02:44.198914Z",
     "iopub.status.idle": "2021-06-08T18:02:44.842232Z",
     "shell.execute_reply": "2021-06-08T18:02:44.841734Z",
     "shell.execute_reply.started": "2021-06-08T11:45:16.600274Z"
    },
    "papermill": {
     "duration": 0.71664,
     "end_time": "2021-06-08T18:02:44.842364",
     "exception": false,
     "start_time": "2021-06-08T18:02:44.125724",
     "status": "completed"
    },
    "tags": []
   },
   "outputs": [],
   "source": [
    "with tf.device('/GPU:0'):\n",
    "    train_dataset = get_dataset(TRAIN_FILES, \"TRAIN\")\n",
    "    valid_dataset = get_dataset(VALID_FILES, \"VALID\")\n",
    "# statements below: why is everything executed on cpu?"
   ]
  },
  {
   "cell_type": "code",
   "execution_count": 26,
   "id": "suitable-millennium",
   "metadata": {
    "execution": {
     "iopub.execute_input": "2021-06-08T18:02:44.911884Z",
     "iopub.status.busy": "2021-06-08T18:02:44.911355Z",
     "iopub.status.idle": "2021-06-08T18:02:51.470469Z",
     "shell.execute_reply": "2021-06-08T18:02:51.469599Z",
     "shell.execute_reply.started": "2021-06-08T11:45:19.604573Z"
    },
    "papermill": {
     "duration": 6.595677,
     "end_time": "2021-06-08T18:02:51.470598",
     "exception": false,
     "start_time": "2021-06-08T18:02:44.874921",
     "status": "completed"
    },
    "tags": []
   },
   "outputs": [
    {
     "name": "stdout",
     "output_type": "stream",
     "text": [
      "(64, 256, 256, 3) (64, 256, 256, 1)\n",
      "(64, 256, 256, 3) (64, 256, 256, 1)\n"
     ]
    }
   ],
   "source": [
    "for imgs, masks in train_dataset.take(2):\n",
    "    print(imgs.shape, masks.shape)"
   ]
  },
  {
   "cell_type": "markdown",
   "id": "regulated-poker",
   "metadata": {
    "papermill": {
     "duration": 0.032411,
     "end_time": "2021-06-08T18:02:51.535760",
     "exception": false,
     "start_time": "2021-06-08T18:02:51.503349",
     "status": "completed"
    },
    "tags": []
   },
   "source": [
    "# Make the model"
   ]
  },
  {
   "cell_type": "code",
   "execution_count": 27,
   "id": "hindu-force",
   "metadata": {
    "execution": {
     "iopub.execute_input": "2021-06-08T18:02:51.682966Z",
     "iopub.status.busy": "2021-06-08T18:02:51.680094Z",
     "iopub.status.idle": "2021-06-08T18:03:46.989244Z",
     "shell.execute_reply": "2021-06-08T18:03:46.988714Z"
    },
    "papermill": {
     "duration": 55.421144,
     "end_time": "2021-06-08T18:03:46.989388",
     "exception": false,
     "start_time": "2021-06-08T18:02:51.568244",
     "status": "completed"
    },
    "tags": []
   },
   "outputs": [
    {
     "name": "stdout",
     "output_type": "stream",
     "text": [
      "Requirement already satisfied: keras in /opt/conda/lib/python3.7/site-packages (2.4.3)\r\n",
      "Requirement already satisfied: scipy>=0.14 in /opt/conda/lib/python3.7/site-packages (from keras) (1.5.4)\r\n",
      "Requirement already satisfied: numpy>=1.9.1 in /opt/conda/lib/python3.7/site-packages (from keras) (1.19.5)\r\n",
      "Requirement already satisfied: h5py in /opt/conda/lib/python3.7/site-packages (from keras) (2.10.0)\r\n",
      "Requirement already satisfied: pyyaml in /opt/conda/lib/python3.7/site-packages (from keras) (5.3.1)\r\n",
      "Requirement already satisfied: six in /opt/conda/lib/python3.7/site-packages (from h5py->keras) (1.15.0)\r\n",
      "Requirement already satisfied: tensorflow in /opt/conda/lib/python3.7/site-packages (2.4.1)\r\n",
      "Collecting tensorflow\r\n",
      "  Downloading tensorflow-2.5.0-cp37-cp37m-manylinux2010_x86_64.whl (454.3 MB)\r\n",
      "\u001b[K     |████████████████████████████████| 454.3 MB 14 kB/s \r\n",
      "\u001b[?25hRequirement already satisfied: opt-einsum~=3.3.0 in /opt/conda/lib/python3.7/site-packages (from tensorflow) (3.3.0)\r\n",
      "Requirement already satisfied: absl-py~=0.10 in /opt/conda/lib/python3.7/site-packages (from tensorflow) (0.12.0)\r\n",
      "Requirement already satisfied: six~=1.15.0 in /opt/conda/lib/python3.7/site-packages (from tensorflow) (1.15.0)\r\n",
      "Requirement already satisfied: google-pasta~=0.2 in /opt/conda/lib/python3.7/site-packages (from tensorflow) (0.2.0)\r\n",
      "Collecting keras-nightly~=2.5.0.dev\r\n",
      "  Downloading keras_nightly-2.5.0.dev2021032900-py2.py3-none-any.whl (1.2 MB)\r\n",
      "\u001b[K     |████████████████████████████████| 1.2 MB 30.6 MB/s \r\n",
      "\u001b[?25hRequirement already satisfied: typing-extensions~=3.7.4 in /opt/conda/lib/python3.7/site-packages (from tensorflow) (3.7.4.3)\r\n",
      "Collecting tensorboard~=2.5\r\n",
      "  Downloading tensorboard-2.5.0-py3-none-any.whl (6.0 MB)\r\n",
      "\u001b[K     |████████████████████████████████| 6.0 MB 15.3 MB/s \r\n",
      "\u001b[?25hRequirement already satisfied: keras-preprocessing~=1.1.2 in /opt/conda/lib/python3.7/site-packages (from tensorflow) (1.1.2)\r\n",
      "Requirement already satisfied: protobuf>=3.9.2 in /opt/conda/lib/python3.7/site-packages (from tensorflow) (3.15.6)\r\n",
      "Requirement already satisfied: flatbuffers~=1.12.0 in /opt/conda/lib/python3.7/site-packages (from tensorflow) (1.12)\r\n",
      "Requirement already satisfied: termcolor~=1.1.0 in /opt/conda/lib/python3.7/site-packages (from tensorflow) (1.1.0)\r\n",
      "Requirement already satisfied: wheel~=0.35 in /opt/conda/lib/python3.7/site-packages (from tensorflow) (0.36.2)\r\n",
      "Collecting grpcio~=1.34.0\r\n",
      "  Downloading grpcio-1.34.1-cp37-cp37m-manylinux2014_x86_64.whl (4.0 MB)\r\n",
      "\u001b[K     |████████████████████████████████| 4.0 MB 42.6 MB/s \r\n",
      "\u001b[?25hRequirement already satisfied: astunparse~=1.6.3 in /opt/conda/lib/python3.7/site-packages (from tensorflow) (1.6.3)\r\n",
      "Requirement already satisfied: wrapt~=1.12.1 in /opt/conda/lib/python3.7/site-packages (from tensorflow) (1.12.1)\r\n",
      "Collecting h5py~=3.1.0\r\n",
      "  Downloading h5py-3.1.0-cp37-cp37m-manylinux1_x86_64.whl (4.0 MB)\r\n",
      "\u001b[K     |████████████████████████████████| 4.0 MB 34.5 MB/s \r\n",
      "\u001b[?25hCollecting gast==0.4.0\r\n",
      "  Downloading gast-0.4.0-py3-none-any.whl (9.8 kB)\r\n",
      "Collecting tensorflow-estimator<2.6.0,>=2.5.0rc0\r\n",
      "  Downloading tensorflow_estimator-2.5.0-py2.py3-none-any.whl (462 kB)\r\n",
      "\u001b[K     |████████████████████████████████| 462 kB 37.7 MB/s \r\n",
      "\u001b[?25hRequirement already satisfied: numpy~=1.19.2 in /opt/conda/lib/python3.7/site-packages (from tensorflow) (1.19.5)\r\n",
      "Collecting cached-property\r\n",
      "  Downloading cached_property-1.5.2-py2.py3-none-any.whl (7.6 kB)\r\n",
      "Collecting tensorboard-data-server<0.7.0,>=0.6.0\r\n",
      "  Downloading tensorboard_data_server-0.6.1-py3-none-manylinux2010_x86_64.whl (4.9 MB)\r\n",
      "\u001b[K     |████████████████████████████████| 4.9 MB 43.2 MB/s \r\n",
      "\u001b[?25hRequirement already satisfied: tensorboard-plugin-wit>=1.6.0 in /opt/conda/lib/python3.7/site-packages (from tensorboard~=2.5->tensorflow) (1.8.0)\r\n",
      "Requirement already satisfied: werkzeug>=0.11.15 in /opt/conda/lib/python3.7/site-packages (from tensorboard~=2.5->tensorflow) (1.0.1)\r\n",
      "Requirement already satisfied: markdown>=2.6.8 in /opt/conda/lib/python3.7/site-packages (from tensorboard~=2.5->tensorflow) (3.3.3)\r\n",
      "Requirement already satisfied: google-auth<2,>=1.6.3 in /opt/conda/lib/python3.7/site-packages (from tensorboard~=2.5->tensorflow) (1.24.0)\r\n",
      "Requirement already satisfied: setuptools>=41.0.0 in /opt/conda/lib/python3.7/site-packages (from tensorboard~=2.5->tensorflow) (49.6.0.post20210108)\r\n",
      "Requirement already satisfied: google-auth-oauthlib<0.5,>=0.4.1 in /opt/conda/lib/python3.7/site-packages (from tensorboard~=2.5->tensorflow) (0.4.2)\r\n",
      "Requirement already satisfied: requests<3,>=2.21.0 in /opt/conda/lib/python3.7/site-packages (from tensorboard~=2.5->tensorflow) (2.25.1)\r\n",
      "Requirement already satisfied: rsa<5,>=3.1.4 in /opt/conda/lib/python3.7/site-packages (from google-auth<2,>=1.6.3->tensorboard~=2.5->tensorflow) (4.7.1)\r\n",
      "Requirement already satisfied: pyasn1-modules>=0.2.1 in /opt/conda/lib/python3.7/site-packages (from google-auth<2,>=1.6.3->tensorboard~=2.5->tensorflow) (0.2.7)\r\n",
      "Requirement already satisfied: cachetools<5.0,>=2.0.0 in /opt/conda/lib/python3.7/site-packages (from google-auth<2,>=1.6.3->tensorboard~=2.5->tensorflow) (4.2.1)\r\n",
      "Requirement already satisfied: requests-oauthlib>=0.7.0 in /opt/conda/lib/python3.7/site-packages (from google-auth-oauthlib<0.5,>=0.4.1->tensorboard~=2.5->tensorflow) (1.3.0)\r\n",
      "Requirement already satisfied: importlib-metadata in /opt/conda/lib/python3.7/site-packages (from markdown>=2.6.8->tensorboard~=2.5->tensorflow) (3.4.0)\r\n",
      "Requirement already satisfied: pyasn1<0.5.0,>=0.4.6 in /opt/conda/lib/python3.7/site-packages (from pyasn1-modules>=0.2.1->google-auth<2,>=1.6.3->tensorboard~=2.5->tensorflow) (0.4.8)\r\n",
      "Requirement already satisfied: urllib3<1.27,>=1.21.1 in /opt/conda/lib/python3.7/site-packages (from requests<3,>=2.21.0->tensorboard~=2.5->tensorflow) (1.26.3)\r\n",
      "Requirement already satisfied: idna<3,>=2.5 in /opt/conda/lib/python3.7/site-packages (from requests<3,>=2.21.0->tensorboard~=2.5->tensorflow) (2.10)\r\n",
      "Requirement already satisfied: certifi>=2017.4.17 in /opt/conda/lib/python3.7/site-packages (from requests<3,>=2.21.0->tensorboard~=2.5->tensorflow) (2020.12.5)\r\n",
      "Requirement already satisfied: chardet<5,>=3.0.2 in /opt/conda/lib/python3.7/site-packages (from requests<3,>=2.21.0->tensorboard~=2.5->tensorflow) (3.0.4)\r\n",
      "Requirement already satisfied: oauthlib>=3.0.0 in /opt/conda/lib/python3.7/site-packages (from requests-oauthlib>=0.7.0->google-auth-oauthlib<0.5,>=0.4.1->tensorboard~=2.5->tensorflow) (3.0.1)\r\n",
      "Requirement already satisfied: zipp>=0.5 in /opt/conda/lib/python3.7/site-packages (from importlib-metadata->markdown>=2.6.8->tensorboard~=2.5->tensorflow) (3.4.0)\r\n",
      "Installing collected packages: tensorboard-data-server, grpcio, cached-property, tensorflow-estimator, tensorboard, keras-nightly, h5py, gast, tensorflow\r\n",
      "\u001b[33m  WARNING: The script tensorboard is installed in '/root/.local/bin' which is not on PATH.\r\n",
      "  Consider adding this directory to PATH or, if you prefer to suppress this warning, use --no-warn-script-location.\u001b[0m\r\n",
      "\u001b[33m  WARNING: The scripts estimator_ckpt_converter, import_pb_to_tensorboard, saved_model_cli, tensorboard, tf_upgrade_v2, tflite_convert, toco and toco_from_protos are installed in '/root/.local/bin' which is not on PATH.\r\n",
      "  Consider adding this directory to PATH or, if you prefer to suppress this warning, use --no-warn-script-location.\u001b[0m\r\n",
      "Successfully installed cached-property-1.5.2 gast-0.4.0 grpcio-1.34.1 h5py-3.1.0 keras-nightly-2.5.0.dev2021032900 tensorboard-2.5.0 tensorboard-data-server-0.6.1 tensorflow-2.5.0 tensorflow-estimator-2.5.0\r\n"
     ]
    }
   ],
   "source": [
    "# !pip install -U segmentation-models\n",
    "!pip install --user --upgrade keras\n",
    "!pip3 install --user --upgrade tensorflow"
   ]
  },
  {
   "cell_type": "code",
   "execution_count": 28,
   "id": "fallen-quantum",
   "metadata": {
    "execution": {
     "iopub.execute_input": "2021-06-08T18:03:47.519667Z",
     "iopub.status.busy": "2021-06-08T18:03:47.446566Z",
     "iopub.status.idle": "2021-06-08T18:03:54.470606Z",
     "shell.execute_reply": "2021-06-08T18:03:54.470078Z",
     "shell.execute_reply.started": "2021-06-08T10:27:12.128736Z"
    },
    "papermill": {
     "duration": 7.252778,
     "end_time": "2021-06-08T18:03:54.470731",
     "exception": false,
     "start_time": "2021-06-08T18:03:47.217953",
     "status": "completed"
    },
    "tags": []
   },
   "outputs": [
    {
     "name": "stdout",
     "output_type": "stream",
     "text": [
      "Collecting segmentation-models\r\n",
      "  Downloading segmentation_models-1.0.1-py3-none-any.whl (33 kB)\r\n",
      "Collecting keras-applications<=1.0.8,>=1.0.7\r\n",
      "  Downloading Keras_Applications-1.0.8-py3-none-any.whl (50 kB)\r\n",
      "\u001b[K     |████████████████████████████████| 50 kB 1.3 MB/s \r\n",
      "\u001b[?25hCollecting image-classifiers==1.0.0\r\n",
      "  Downloading image_classifiers-1.0.0-py3-none-any.whl (19 kB)\r\n",
      "Collecting efficientnet==1.0.0\r\n",
      "  Downloading efficientnet-1.0.0-py3-none-any.whl (17 kB)\r\n",
      "Requirement already satisfied: scikit-image in /opt/conda/lib/python3.7/site-packages (from efficientnet==1.0.0->segmentation-models) (0.18.1)\r\n",
      "Requirement already satisfied: h5py in /root/.local/lib/python3.7/site-packages (from keras-applications<=1.0.8,>=1.0.7->segmentation-models) (3.1.0)\r\n",
      "Requirement already satisfied: numpy>=1.9.1 in /opt/conda/lib/python3.7/site-packages (from keras-applications<=1.0.8,>=1.0.7->segmentation-models) (1.19.5)\r\n",
      "Requirement already satisfied: cached-property in /root/.local/lib/python3.7/site-packages (from h5py->keras-applications<=1.0.8,>=1.0.7->segmentation-models) (1.5.2)\r\n",
      "Requirement already satisfied: PyWavelets>=1.1.1 in /opt/conda/lib/python3.7/site-packages (from scikit-image->efficientnet==1.0.0->segmentation-models) (1.1.1)\r\n",
      "Requirement already satisfied: matplotlib!=3.0.0,>=2.0.0 in /opt/conda/lib/python3.7/site-packages (from scikit-image->efficientnet==1.0.0->segmentation-models) (3.4.0)\r\n",
      "Requirement already satisfied: imageio>=2.3.0 in /opt/conda/lib/python3.7/site-packages (from scikit-image->efficientnet==1.0.0->segmentation-models) (2.9.0)\r\n",
      "Requirement already satisfied: scipy>=1.0.1 in /opt/conda/lib/python3.7/site-packages (from scikit-image->efficientnet==1.0.0->segmentation-models) (1.5.4)\r\n",
      "Requirement already satisfied: pillow!=7.1.0,!=7.1.1,>=4.3.0 in /opt/conda/lib/python3.7/site-packages (from scikit-image->efficientnet==1.0.0->segmentation-models) (7.2.0)\r\n",
      "Requirement already satisfied: tifffile>=2019.7.26 in /opt/conda/lib/python3.7/site-packages (from scikit-image->efficientnet==1.0.0->segmentation-models) (2021.3.17)\r\n",
      "Requirement already satisfied: networkx>=2.0 in /opt/conda/lib/python3.7/site-packages (from scikit-image->efficientnet==1.0.0->segmentation-models) (2.5)\r\n",
      "Requirement already satisfied: pyparsing>=2.2.1 in /opt/conda/lib/python3.7/site-packages (from matplotlib!=3.0.0,>=2.0.0->scikit-image->efficientnet==1.0.0->segmentation-models) (2.4.7)\r\n",
      "Requirement already satisfied: cycler>=0.10 in /opt/conda/lib/python3.7/site-packages (from matplotlib!=3.0.0,>=2.0.0->scikit-image->efficientnet==1.0.0->segmentation-models) (0.10.0)\r\n",
      "Requirement already satisfied: python-dateutil>=2.7 in /opt/conda/lib/python3.7/site-packages (from matplotlib!=3.0.0,>=2.0.0->scikit-image->efficientnet==1.0.0->segmentation-models) (2.8.1)\r\n",
      "Requirement already satisfied: kiwisolver>=1.0.1 in /opt/conda/lib/python3.7/site-packages (from matplotlib!=3.0.0,>=2.0.0->scikit-image->efficientnet==1.0.0->segmentation-models) (1.3.1)\r\n",
      "Requirement already satisfied: six in /opt/conda/lib/python3.7/site-packages (from cycler>=0.10->matplotlib!=3.0.0,>=2.0.0->scikit-image->efficientnet==1.0.0->segmentation-models) (1.15.0)\r\n",
      "Requirement already satisfied: decorator>=4.3.0 in /opt/conda/lib/python3.7/site-packages (from networkx>=2.0->scikit-image->efficientnet==1.0.0->segmentation-models) (4.4.2)\r\n",
      "Installing collected packages: keras-applications, image-classifiers, efficientnet, segmentation-models\r\n",
      "Successfully installed efficientnet-1.0.0 image-classifiers-1.0.0 keras-applications-1.0.8 segmentation-models-1.0.1\r\n"
     ]
    }
   ],
   "source": [
    "!pip install -U segmentation-models"
   ]
  },
  {
   "cell_type": "code",
   "execution_count": 29,
   "id": "offensive-savage",
   "metadata": {
    "execution": {
     "iopub.execute_input": "2021-06-08T18:03:54.926444Z",
     "iopub.status.busy": "2021-06-08T18:03:54.925588Z",
     "iopub.status.idle": "2021-06-08T18:03:54.928780Z",
     "shell.execute_reply": "2021-06-08T18:03:54.929367Z",
     "shell.execute_reply.started": "2021-06-08T11:45:33.212462Z"
    },
    "papermill": {
     "duration": 0.234418,
     "end_time": "2021-06-08T18:03:54.929551",
     "exception": false,
     "start_time": "2021-06-08T18:03:54.695133",
     "status": "completed"
    },
    "tags": []
   },
   "outputs": [
    {
     "name": "stdout",
     "output_type": "stream",
     "text": [
      "env: SM_FRAMEWORK=tf.keras\n"
     ]
    }
   ],
   "source": [
    "%env SM_FRAMEWORK=tf.keras"
   ]
  },
  {
   "cell_type": "code",
   "execution_count": 30,
   "id": "faced-worry",
   "metadata": {
    "execution": {
     "iopub.execute_input": "2021-06-08T18:03:55.563957Z",
     "iopub.status.busy": "2021-06-08T18:03:55.563071Z",
     "iopub.status.idle": "2021-06-08T18:03:55.587279Z",
     "shell.execute_reply": "2021-06-08T18:03:55.588151Z",
     "shell.execute_reply.started": "2021-06-08T11:45:35.225667Z"
    },
    "papermill": {
     "duration": 0.400552,
     "end_time": "2021-06-08T18:03:55.588363",
     "exception": false,
     "start_time": "2021-06-08T18:03:55.187811",
     "status": "completed"
    },
    "tags": []
   },
   "outputs": [
    {
     "name": "stdout",
     "output_type": "stream",
     "text": [
      "Segmentation Models: using `tf.keras` framework.\n"
     ]
    }
   ],
   "source": [
    "import segmentation_models as sm"
   ]
  },
  {
   "cell_type": "code",
   "execution_count": 31,
   "id": "filled-citation",
   "metadata": {
    "execution": {
     "iopub.execute_input": "2021-06-08T18:03:56.060708Z",
     "iopub.status.busy": "2021-06-08T18:03:56.059942Z",
     "iopub.status.idle": "2021-06-08T18:03:56.062828Z",
     "shell.execute_reply": "2021-06-08T18:03:56.062426Z",
     "shell.execute_reply.started": "2021-06-08T11:45:39.531016Z"
    },
    "papermill": {
     "duration": 0.234225,
     "end_time": "2021-06-08T18:03:56.062944",
     "exception": false,
     "start_time": "2021-06-08T18:03:55.828719",
     "status": "completed"
    },
    "tags": []
   },
   "outputs": [],
   "source": [
    "tf.keras.backend.set_image_data_format('channels_last')"
   ]
  },
  {
   "cell_type": "code",
   "execution_count": 32,
   "id": "interstate-poster",
   "metadata": {
    "execution": {
     "iopub.execute_input": "2021-06-08T18:03:56.518459Z",
     "iopub.status.busy": "2021-06-08T18:03:56.517657Z",
     "iopub.status.idle": "2021-06-08T18:03:56.520547Z",
     "shell.execute_reply": "2021-06-08T18:03:56.520116Z",
     "shell.execute_reply.started": "2021-06-08T11:45:48.960532Z"
    },
    "papermill": {
     "duration": 0.232811,
     "end_time": "2021-06-08T18:03:56.520664",
     "exception": false,
     "start_time": "2021-06-08T18:03:56.287853",
     "status": "completed"
    },
    "tags": []
   },
   "outputs": [],
   "source": [
    "BACKBONE = 'resnet34'\n",
    "# preprocess_input = sm.get_preprocessing(BACKBONE)\n",
    "# x_train = preprocess_input(train_dataset) #what preporcessing does get_preprocessing do?\n",
    "# x_valid = preprocess_input(valid_dataset)"
   ]
  },
  {
   "cell_type": "code",
   "execution_count": 33,
   "id": "bound-finish",
   "metadata": {
    "execution": {
     "iopub.execute_input": "2021-06-08T18:03:56.974287Z",
     "iopub.status.busy": "2021-06-08T18:03:56.973489Z",
     "iopub.status.idle": "2021-06-08T18:03:56.977073Z",
     "shell.execute_reply": "2021-06-08T18:03:56.976676Z",
     "shell.execute_reply.started": "2021-06-08T10:32:14.781400Z"
    },
    "papermill": {
     "duration": 0.234513,
     "end_time": "2021-06-08T18:03:56.977209",
     "exception": false,
     "start_time": "2021-06-08T18:03:56.742696",
     "status": "completed"
    },
    "tags": []
   },
   "outputs": [
    {
     "data": {
      "text/plain": [
       "<segmentation_models.base.objects.SumOfLosses at 0x7efcdbefae50>"
      ]
     },
     "execution_count": 33,
     "metadata": {},
     "output_type": "execute_result"
    }
   ],
   "source": [
    "sm.losses.bce_jaccard_loss"
   ]
  },
  {
   "cell_type": "code",
   "execution_count": 34,
   "id": "minute-pressure",
   "metadata": {
    "execution": {
     "iopub.execute_input": "2021-06-08T18:03:57.431816Z",
     "iopub.status.busy": "2021-06-08T18:03:57.429380Z",
     "iopub.status.idle": "2021-06-08T18:04:00.208723Z",
     "shell.execute_reply": "2021-06-08T18:04:00.207696Z",
     "shell.execute_reply.started": "2021-06-08T14:04:41.331823Z"
    },
    "papermill": {
     "duration": 3.007945,
     "end_time": "2021-06-08T18:04:00.208868",
     "exception": false,
     "start_time": "2021-06-08T18:03:57.200923",
     "status": "completed"
    },
    "tags": []
   },
   "outputs": [
    {
     "name": "stdout",
     "output_type": "stream",
     "text": [
      "Downloading data from https://github.com/qubvel/classification_models/releases/download/0.0.1/resnet34_imagenet_1000_no_top.h5\n",
      "85524480/85521592 [==============================] - 1s 0us/step\n"
     ]
    }
   ],
   "source": [
    "model = sm.Linknet(BACKBONE, encoder_weights='imagenet')\n",
    "# model.summary()"
   ]
  },
  {
   "cell_type": "code",
   "execution_count": 35,
   "id": "ancient-liver",
   "metadata": {
    "execution": {
     "iopub.execute_input": "2021-06-08T18:04:00.695678Z",
     "iopub.status.busy": "2021-06-08T18:04:00.694945Z",
     "iopub.status.idle": "2021-06-08T18:04:00.703371Z",
     "shell.execute_reply": "2021-06-08T18:04:00.703737Z",
     "shell.execute_reply.started": "2021-06-08T14:04:45.339655Z"
    },
    "papermill": {
     "duration": 0.266372,
     "end_time": "2021-06-08T18:04:00.703887",
     "exception": false,
     "start_time": "2021-06-08T18:04:00.437515",
     "status": "completed"
    },
    "tags": []
   },
   "outputs": [],
   "source": [
    "# model = sm.Unet(BACKBONE, encoder_weights='imagenet')\n",
    "# model = sm.Linknet(BACKBONE, encoder_weights='imagenet')\n",
    "model.compile(\n",
    "    'Adam',\n",
    "    loss=sm.losses.bce_jaccard_loss,\n",
    "    metrics=[sm.metrics.iou_score]\n",
    ")"
   ]
  },
  {
   "cell_type": "code",
   "execution_count": 36,
   "id": "regulated-slope",
   "metadata": {
    "execution": {
     "iopub.execute_input": "2021-06-08T18:04:01.182711Z",
     "iopub.status.busy": "2021-06-08T18:04:01.182114Z",
     "iopub.status.idle": "2021-06-08T18:04:01.186045Z",
     "shell.execute_reply": "2021-06-08T18:04:01.185579Z",
     "shell.execute_reply.started": "2021-06-03T20:58:43.12932Z"
    },
    "papermill": {
     "duration": 0.254015,
     "end_time": "2021-06-08T18:04:01.186164",
     "exception": false,
     "start_time": "2021-06-08T18:04:00.932149",
     "status": "completed"
    },
    "tags": []
   },
   "outputs": [],
   "source": [
    "# early_stopping = tf.keras.callbacks.EarlyStopping(monitor='val_loss', patience=5)"
   ]
  },
  {
   "cell_type": "code",
   "execution_count": 37,
   "id": "stuck-march",
   "metadata": {
    "execution": {
     "iopub.execute_input": "2021-06-08T18:04:01.655678Z",
     "iopub.status.busy": "2021-06-08T18:04:01.654998Z",
     "iopub.status.idle": "2021-06-08T21:31:25.047468Z",
     "shell.execute_reply": "2021-06-08T21:31:25.044901Z",
     "shell.execute_reply.started": "2021-06-08T14:04:52.507460Z"
    },
    "papermill": {
     "duration": 12443.628896,
     "end_time": "2021-06-08T21:31:25.048299",
     "exception": false,
     "start_time": "2021-06-08T18:04:01.419403",
     "status": "completed"
    },
    "tags": []
   },
   "outputs": [
    {
     "name": "stdout",
     "output_type": "stream",
     "text": [
      "Epoch 1/200\n",
      "108/108 [==============================] - 77s 574ms/step - loss: 1.2301 - iou_score: 0.1434 - val_loss: 66.2269 - val_iou_score: 4.3644e-04\n",
      "Epoch 2/200\n",
      "108/108 [==============================] - 62s 540ms/step - loss: 0.3484 - iou_score: 0.6965 - val_loss: 1.4601 - val_iou_score: 0.0029\n",
      "Epoch 3/200\n",
      "108/108 [==============================] - 62s 531ms/step - loss: 0.2817 - iou_score: 0.7566 - val_loss: 1.6553 - val_iou_score: 0.0181\n",
      "Epoch 4/200\n",
      "108/108 [==============================] - 62s 529ms/step - loss: 0.2566 - iou_score: 0.7783 - val_loss: 1.2541 - val_iou_score: 3.3287e-04\n",
      "Epoch 5/200\n",
      "108/108 [==============================] - 61s 532ms/step - loss: 0.2498 - iou_score: 0.7849 - val_loss: 1.3000 - val_iou_score: 8.5746e-05\n",
      "Epoch 6/200\n",
      "108/108 [==============================] - 61s 527ms/step - loss: 0.2616 - iou_score: 0.7737 - val_loss: 1.2958 - val_iou_score: 1.0752e-04\n",
      "Epoch 7/200\n",
      "108/108 [==============================] - 61s 528ms/step - loss: 0.2170 - iou_score: 0.8121 - val_loss: 1.3118 - val_iou_score: 7.1976e-05\n",
      "Epoch 8/200\n",
      "108/108 [==============================] - 61s 532ms/step - loss: 0.2415 - iou_score: 0.7912 - val_loss: 1.3846 - val_iou_score: 5.3490e-05\n",
      "Epoch 9/200\n",
      "108/108 [==============================] - 61s 530ms/step - loss: 0.2478 - iou_score: 0.7861 - val_loss: 1.1961 - val_iou_score: 0.0731\n",
      "Epoch 10/200\n",
      "108/108 [==============================] - 62s 534ms/step - loss: 0.2297 - iou_score: 0.8014 - val_loss: 0.5318 - val_iou_score: 0.5655\n",
      "Epoch 11/200\n",
      "108/108 [==============================] - 61s 530ms/step - loss: 0.2107 - iou_score: 0.8176 - val_loss: 0.4536 - val_iou_score: 0.6394\n",
      "Epoch 12/200\n",
      "108/108 [==============================] - 61s 531ms/step - loss: 0.2229 - iou_score: 0.8087 - val_loss: 0.4126 - val_iou_score: 0.6586\n",
      "Epoch 13/200\n",
      "108/108 [==============================] - 61s 528ms/step - loss: 0.2054 - iou_score: 0.8233 - val_loss: 0.2611 - val_iou_score: 0.7822\n",
      "Epoch 14/200\n",
      "108/108 [==============================] - 61s 531ms/step - loss: 0.2163 - iou_score: 0.8133 - val_loss: 0.2262 - val_iou_score: 0.7892\n",
      "Epoch 15/200\n",
      "108/108 [==============================] - 62s 533ms/step - loss: 0.1967 - iou_score: 0.8306 - val_loss: 0.2502 - val_iou_score: 0.7706\n",
      "Epoch 16/200\n",
      "108/108 [==============================] - 62s 533ms/step - loss: 0.1980 - iou_score: 0.8290 - val_loss: 0.2092 - val_iou_score: 0.8228\n",
      "Epoch 17/200\n",
      "108/108 [==============================] - 62s 536ms/step - loss: 0.2008 - iou_score: 0.8261 - val_loss: 0.2154 - val_iou_score: 0.8180\n",
      "Epoch 18/200\n",
      "108/108 [==============================] - 61s 532ms/step - loss: 0.1950 - iou_score: 0.8304 - val_loss: 0.3123 - val_iou_score: 0.7386\n",
      "Epoch 19/200\n",
      "108/108 [==============================] - 61s 532ms/step - loss: 0.1950 - iou_score: 0.8306 - val_loss: 0.2105 - val_iou_score: 0.8041\n",
      "Epoch 20/200\n",
      "108/108 [==============================] - 62s 532ms/step - loss: 0.1808 - iou_score: 0.8439 - val_loss: 0.2035 - val_iou_score: 0.8256\n",
      "Epoch 21/200\n",
      "108/108 [==============================] - 62s 535ms/step - loss: 0.1939 - iou_score: 0.8323 - val_loss: 0.1932 - val_iou_score: 0.8315\n",
      "Epoch 22/200\n",
      "108/108 [==============================] - 61s 530ms/step - loss: 0.1887 - iou_score: 0.8364 - val_loss: 0.1743 - val_iou_score: 0.8487\n",
      "Epoch 23/200\n",
      "108/108 [==============================] - 62s 534ms/step - loss: 0.1662 - iou_score: 0.8548 - val_loss: 0.2173 - val_iou_score: 0.8124\n",
      "Epoch 24/200\n",
      "108/108 [==============================] - 61s 532ms/step - loss: 0.1869 - iou_score: 0.8371 - val_loss: 0.1941 - val_iou_score: 0.8352\n",
      "Epoch 25/200\n",
      "108/108 [==============================] - 62s 539ms/step - loss: 0.2107 - iou_score: 0.8175 - val_loss: 0.2388 - val_iou_score: 0.7910\n",
      "Epoch 26/200\n",
      "108/108 [==============================] - 62s 534ms/step - loss: 0.1855 - iou_score: 0.8392 - val_loss: 0.2482 - val_iou_score: 0.7941\n",
      "Epoch 27/200\n",
      "108/108 [==============================] - 62s 534ms/step - loss: 0.1873 - iou_score: 0.8380 - val_loss: 0.4199 - val_iou_score: 0.6377\n",
      "Epoch 28/200\n",
      "108/108 [==============================] - 62s 544ms/step - loss: 0.1906 - iou_score: 0.8338 - val_loss: 0.1889 - val_iou_score: 0.8359\n",
      "Epoch 29/200\n",
      "108/108 [==============================] - 62s 533ms/step - loss: 0.1786 - iou_score: 0.8451 - val_loss: 0.2017 - val_iou_score: 0.8241\n",
      "Epoch 30/200\n",
      "108/108 [==============================] - 62s 534ms/step - loss: 0.1814 - iou_score: 0.8422 - val_loss: 0.2508 - val_iou_score: 0.7772\n",
      "Epoch 31/200\n",
      "108/108 [==============================] - 61s 533ms/step - loss: 0.1776 - iou_score: 0.8457 - val_loss: 0.2067 - val_iou_score: 0.8222\n",
      "Epoch 32/200\n",
      "108/108 [==============================] - 61s 531ms/step - loss: 0.1763 - iou_score: 0.8455 - val_loss: 0.1799 - val_iou_score: 0.8416\n",
      "Epoch 33/200\n",
      "108/108 [==============================] - 62s 538ms/step - loss: 0.1886 - iou_score: 0.8358 - val_loss: 0.2297 - val_iou_score: 0.8077\n",
      "Epoch 34/200\n",
      "108/108 [==============================] - 62s 534ms/step - loss: 0.1893 - iou_score: 0.8353 - val_loss: 0.2271 - val_iou_score: 0.8059\n",
      "Epoch 35/200\n",
      "108/108 [==============================] - 62s 530ms/step - loss: 0.1915 - iou_score: 0.8336 - val_loss: 0.3229 - val_iou_score: 0.7162\n",
      "Epoch 36/200\n",
      "108/108 [==============================] - 62s 537ms/step - loss: 0.1949 - iou_score: 0.8316 - val_loss: 0.1920 - val_iou_score: 0.8366\n",
      "Epoch 37/200\n",
      "108/108 [==============================] - 61s 532ms/step - loss: 0.1847 - iou_score: 0.8393 - val_loss: 0.2017 - val_iou_score: 0.8293\n",
      "Epoch 38/200\n",
      "108/108 [==============================] - 62s 531ms/step - loss: 0.1809 - iou_score: 0.8416 - val_loss: 0.1908 - val_iou_score: 0.8363\n",
      "Epoch 39/200\n",
      "108/108 [==============================] - 62s 533ms/step - loss: 0.1667 - iou_score: 0.8546 - val_loss: 0.1678 - val_iou_score: 0.8558\n",
      "Epoch 40/200\n",
      "108/108 [==============================] - 62s 534ms/step - loss: 0.1643 - iou_score: 0.8566 - val_loss: 0.1966 - val_iou_score: 0.8325\n",
      "Epoch 41/200\n",
      "108/108 [==============================] - 61s 532ms/step - loss: 0.1660 - iou_score: 0.8542 - val_loss: 0.1745 - val_iou_score: 0.8491\n",
      "Epoch 42/200\n",
      "108/108 [==============================] - 63s 535ms/step - loss: 0.1752 - iou_score: 0.8480 - val_loss: 0.1912 - val_iou_score: 0.8366\n",
      "Epoch 43/200\n",
      "108/108 [==============================] - 62s 536ms/step - loss: 0.1665 - iou_score: 0.8550 - val_loss: 0.2011 - val_iou_score: 0.8299\n",
      "Epoch 44/200\n",
      "108/108 [==============================] - 62s 536ms/step - loss: 0.1618 - iou_score: 0.8583 - val_loss: 0.1932 - val_iou_score: 0.8338\n",
      "Epoch 45/200\n",
      "108/108 [==============================] - 62s 534ms/step - loss: 0.1809 - iou_score: 0.8426 - val_loss: 0.1850 - val_iou_score: 0.8411\n",
      "Epoch 46/200\n",
      "108/108 [==============================] - 62s 538ms/step - loss: 0.1827 - iou_score: 0.8413 - val_loss: 0.2149 - val_iou_score: 0.8140\n",
      "Epoch 47/200\n",
      "108/108 [==============================] - 63s 546ms/step - loss: 0.1877 - iou_score: 0.8356 - val_loss: 0.2210 - val_iou_score: 0.8088\n",
      "Epoch 48/200\n",
      "108/108 [==============================] - 62s 538ms/step - loss: 0.1794 - iou_score: 0.8428 - val_loss: 0.2189 - val_iou_score: 0.8125\n",
      "Epoch 49/200\n",
      "108/108 [==============================] - 62s 534ms/step - loss: 0.1660 - iou_score: 0.8549 - val_loss: 0.1789 - val_iou_score: 0.8434\n",
      "Epoch 50/200\n",
      "108/108 [==============================] - 62s 537ms/step - loss: 0.1664 - iou_score: 0.8552 - val_loss: 0.1794 - val_iou_score: 0.8448\n",
      "Epoch 51/200\n",
      "108/108 [==============================] - 62s 537ms/step - loss: 0.1874 - iou_score: 0.8375 - val_loss: 0.2086 - val_iou_score: 0.8030\n",
      "Epoch 52/200\n",
      "108/108 [==============================] - 62s 537ms/step - loss: 0.1616 - iou_score: 0.8587 - val_loss: 0.4302 - val_iou_score: 0.6526\n",
      "Epoch 53/200\n",
      "108/108 [==============================] - 62s 536ms/step - loss: 0.1961 - iou_score: 0.8293 - val_loss: 0.2003 - val_iou_score: 0.8283\n",
      "Epoch 54/200\n",
      "108/108 [==============================] - 62s 536ms/step - loss: 0.1837 - iou_score: 0.8397 - val_loss: 0.1846 - val_iou_score: 0.8420\n",
      "Epoch 55/200\n",
      "108/108 [==============================] - 63s 535ms/step - loss: 0.1584 - iou_score: 0.8616 - val_loss: 0.2511 - val_iou_score: 0.7841\n",
      "Epoch 56/200\n",
      "108/108 [==============================] - 62s 540ms/step - loss: 0.1750 - iou_score: 0.8470 - val_loss: 0.2014 - val_iou_score: 0.8284\n",
      "Epoch 57/200\n",
      "108/108 [==============================] - 61s 532ms/step - loss: 0.1648 - iou_score: 0.8556 - val_loss: 0.1825 - val_iou_score: 0.8425\n",
      "Epoch 58/200\n",
      "108/108 [==============================] - 61s 533ms/step - loss: 0.1598 - iou_score: 0.8597 - val_loss: 0.1894 - val_iou_score: 0.8370\n",
      "Epoch 59/200\n",
      "108/108 [==============================] - 62s 534ms/step - loss: 0.1573 - iou_score: 0.8624 - val_loss: 0.1795 - val_iou_score: 0.8445\n",
      "Epoch 60/200\n",
      "108/108 [==============================] - 62s 533ms/step - loss: 0.1490 - iou_score: 0.8694 - val_loss: 0.1665 - val_iou_score: 0.8564\n",
      "Epoch 61/200\n",
      "108/108 [==============================] - 62s 538ms/step - loss: 0.1575 - iou_score: 0.8620 - val_loss: 0.1740 - val_iou_score: 0.8465\n",
      "Epoch 62/200\n",
      "108/108 [==============================] - 62s 534ms/step - loss: 0.1761 - iou_score: 0.8472 - val_loss: 0.2885 - val_iou_score: 0.7620\n",
      "Epoch 63/200\n",
      "108/108 [==============================] - 62s 534ms/step - loss: 0.1780 - iou_score: 0.8438 - val_loss: 0.1768 - val_iou_score: 0.8491\n",
      "Epoch 64/200\n",
      "108/108 [==============================] - 62s 535ms/step - loss: 0.2024 - iou_score: 0.8245 - val_loss: 0.2050 - val_iou_score: 0.8186\n",
      "Epoch 65/200\n",
      "108/108 [==============================] - 63s 532ms/step - loss: 0.1806 - iou_score: 0.8426 - val_loss: 0.2089 - val_iou_score: 0.8031\n",
      "Epoch 66/200\n",
      "108/108 [==============================] - 62s 537ms/step - loss: 0.1647 - iou_score: 0.8560 - val_loss: 0.1957 - val_iou_score: 0.8135\n",
      "Epoch 67/200\n",
      "108/108 [==============================] - 62s 540ms/step - loss: 0.1742 - iou_score: 0.8475 - val_loss: 0.2180 - val_iou_score: 0.8135\n",
      "Epoch 68/200\n",
      "108/108 [==============================] - 61s 534ms/step - loss: 0.1760 - iou_score: 0.8462 - val_loss: 0.2669 - val_iou_score: 0.7731\n",
      "Epoch 69/200\n",
      "108/108 [==============================] - 63s 536ms/step - loss: 0.1604 - iou_score: 0.8600 - val_loss: 0.2697 - val_iou_score: 0.7762\n",
      "Epoch 70/200\n",
      "108/108 [==============================] - 62s 540ms/step - loss: 0.1616 - iou_score: 0.8588 - val_loss: 0.2716 - val_iou_score: 0.7687\n",
      "Epoch 71/200\n",
      "108/108 [==============================] - 61s 534ms/step - loss: 0.1512 - iou_score: 0.8680 - val_loss: 0.2090 - val_iou_score: 0.8205\n",
      "Epoch 72/200\n",
      "108/108 [==============================] - 63s 543ms/step - loss: 0.1733 - iou_score: 0.8491 - val_loss: 0.2207 - val_iou_score: 0.8114\n",
      "Epoch 73/200\n",
      "108/108 [==============================] - 62s 536ms/step - loss: 0.1799 - iou_score: 0.8444 - val_loss: 0.2959 - val_iou_score: 0.7569\n",
      "Epoch 74/200\n",
      "108/108 [==============================] - 63s 536ms/step - loss: 0.1622 - iou_score: 0.8585 - val_loss: 0.1909 - val_iou_score: 0.8333\n",
      "Epoch 75/200\n",
      "108/108 [==============================] - 62s 539ms/step - loss: 0.1562 - iou_score: 0.8640 - val_loss: 0.1831 - val_iou_score: 0.8441\n",
      "Epoch 76/200\n",
      "108/108 [==============================] - 62s 536ms/step - loss: 0.1616 - iou_score: 0.8589 - val_loss: 0.2250 - val_iou_score: 0.8121\n",
      "Epoch 77/200\n",
      "108/108 [==============================] - 62s 536ms/step - loss: 0.1518 - iou_score: 0.8676 - val_loss: 0.1636 - val_iou_score: 0.8573\n",
      "Epoch 78/200\n",
      "108/108 [==============================] - 63s 533ms/step - loss: 0.1492 - iou_score: 0.8692 - val_loss: 0.1669 - val_iou_score: 0.8365\n",
      "Epoch 79/200\n",
      "108/108 [==============================] - 62s 537ms/step - loss: 0.1521 - iou_score: 0.8666 - val_loss: 0.1629 - val_iou_score: 0.8556\n",
      "Epoch 80/200\n",
      "108/108 [==============================] - 62s 541ms/step - loss: 0.1513 - iou_score: 0.8677 - val_loss: 0.1669 - val_iou_score: 0.8544\n",
      "Epoch 81/200\n",
      "108/108 [==============================] - 62s 539ms/step - loss: 0.1559 - iou_score: 0.8640 - val_loss: 0.2209 - val_iou_score: 0.8107\n",
      "Epoch 82/200\n",
      "108/108 [==============================] - 64s 538ms/step - loss: 0.1494 - iou_score: 0.8685 - val_loss: 0.1828 - val_iou_score: 0.8456\n",
      "Epoch 83/200\n",
      "108/108 [==============================] - 62s 538ms/step - loss: 0.1540 - iou_score: 0.8653 - val_loss: 0.1738 - val_iou_score: 0.8511\n",
      "Epoch 84/200\n",
      "108/108 [==============================] - 62s 538ms/step - loss: 0.1482 - iou_score: 0.8709 - val_loss: 0.1790 - val_iou_score: 0.8451\n",
      "Epoch 85/200\n",
      "108/108 [==============================] - 62s 535ms/step - loss: 0.1485 - iou_score: 0.8696 - val_loss: 0.1679 - val_iou_score: 0.8568\n",
      "Epoch 86/200\n",
      "108/108 [==============================] - 63s 536ms/step - loss: 0.1511 - iou_score: 0.8675 - val_loss: 0.1889 - val_iou_score: 0.8164\n",
      "Epoch 87/200\n",
      "108/108 [==============================] - 62s 538ms/step - loss: 0.1831 - iou_score: 0.8404 - val_loss: 0.1804 - val_iou_score: 0.8459\n",
      "Epoch 88/200\n",
      "108/108 [==============================] - 62s 542ms/step - loss: 0.1591 - iou_score: 0.8610 - val_loss: 0.1719 - val_iou_score: 0.8497\n",
      "Epoch 89/200\n",
      "108/108 [==============================] - 62s 535ms/step - loss: 0.1575 - iou_score: 0.8619 - val_loss: 0.1707 - val_iou_score: 0.8537\n",
      "Epoch 90/200\n",
      "108/108 [==============================] - 64s 535ms/step - loss: 0.1367 - iou_score: 0.8804 - val_loss: 0.1735 - val_iou_score: 0.8498\n",
      "Epoch 91/200\n",
      "108/108 [==============================] - 62s 540ms/step - loss: 0.1436 - iou_score: 0.8745 - val_loss: 0.2036 - val_iou_score: 0.8202\n",
      "Epoch 92/200\n",
      "108/108 [==============================] - 62s 540ms/step - loss: 0.1639 - iou_score: 0.8565 - val_loss: 0.1806 - val_iou_score: 0.8440\n",
      "Epoch 93/200\n",
      "108/108 [==============================] - 62s 536ms/step - loss: 0.1434 - iou_score: 0.8744 - val_loss: 0.1846 - val_iou_score: 0.8415\n",
      "Epoch 94/200\n",
      "108/108 [==============================] - 63s 534ms/step - loss: 0.1564 - iou_score: 0.8623 - val_loss: 0.2556 - val_iou_score: 0.7811\n",
      "Epoch 95/200\n",
      "108/108 [==============================] - 62s 534ms/step - loss: 0.1627 - iou_score: 0.8582 - val_loss: 0.1862 - val_iou_score: 0.8412\n",
      "Epoch 96/200\n",
      "108/108 [==============================] - 62s 539ms/step - loss: 0.1538 - iou_score: 0.8655 - val_loss: 0.1822 - val_iou_score: 0.8428\n",
      "Epoch 97/200\n",
      "108/108 [==============================] - 64s 539ms/step - loss: 0.1480 - iou_score: 0.8699 - val_loss: 0.1836 - val_iou_score: 0.8419\n",
      "Epoch 98/200\n",
      "108/108 [==============================] - 63s 543ms/step - loss: 0.1604 - iou_score: 0.8600 - val_loss: 0.1685 - val_iou_score: 0.8548\n",
      "Epoch 99/200\n",
      "108/108 [==============================] - 62s 537ms/step - loss: 0.1463 - iou_score: 0.8715 - val_loss: 0.1639 - val_iou_score: 0.8597\n",
      "Epoch 100/200\n",
      "108/108 [==============================] - 63s 537ms/step - loss: 0.1439 - iou_score: 0.8741 - val_loss: 0.1767 - val_iou_score: 0.8463\n",
      "Epoch 101/200\n",
      "108/108 [==============================] - 62s 542ms/step - loss: 0.1432 - iou_score: 0.8738 - val_loss: 0.2174 - val_iou_score: 0.8134\n",
      "Epoch 102/200\n",
      "108/108 [==============================] - 62s 536ms/step - loss: 0.1546 - iou_score: 0.8642 - val_loss: 0.1797 - val_iou_score: 0.8453\n",
      "Epoch 103/200\n",
      "108/108 [==============================] - 63s 537ms/step - loss: 0.1515 - iou_score: 0.8667 - val_loss: 0.1646 - val_iou_score: 0.8572\n",
      "Epoch 104/200\n",
      "108/108 [==============================] - 62s 534ms/step - loss: 0.1360 - iou_score: 0.8809 - val_loss: 0.1740 - val_iou_score: 0.8316\n",
      "Epoch 105/200\n",
      "108/108 [==============================] - 62s 535ms/step - loss: 0.1577 - iou_score: 0.8624 - val_loss: 0.1892 - val_iou_score: 0.8391\n",
      "Epoch 106/200\n",
      "108/108 [==============================] - 63s 531ms/step - loss: 0.1553 - iou_score: 0.8636 - val_loss: 0.1721 - val_iou_score: 0.8540\n",
      "Epoch 107/200\n",
      "108/108 [==============================] - 62s 539ms/step - loss: 0.1350 - iou_score: 0.8818 - val_loss: 0.2125 - val_iou_score: 0.8178\n",
      "Epoch 108/200\n",
      "108/108 [==============================] - 62s 535ms/step - loss: 0.1492 - iou_score: 0.8686 - val_loss: 0.1789 - val_iou_score: 0.8446\n",
      "Epoch 109/200\n",
      "108/108 [==============================] - 63s 536ms/step - loss: 0.1386 - iou_score: 0.8788 - val_loss: 0.1683 - val_iou_score: 0.8528\n",
      "Epoch 110/200\n",
      "108/108 [==============================] - 62s 534ms/step - loss: 0.1398 - iou_score: 0.8771 - val_loss: 0.1706 - val_iou_score: 0.8535\n",
      "Epoch 111/200\n",
      "108/108 [==============================] - 62s 537ms/step - loss: 0.1346 - iou_score: 0.8821 - val_loss: 0.1722 - val_iou_score: 0.8443\n",
      "Epoch 112/200\n",
      "108/108 [==============================] - 63s 533ms/step - loss: 0.1326 - iou_score: 0.8832 - val_loss: 0.1574 - val_iou_score: 0.8628\n",
      "Epoch 113/200\n",
      "108/108 [==============================] - 62s 540ms/step - loss: 0.1273 - iou_score: 0.8879 - val_loss: 0.1762 - val_iou_score: 0.8467\n",
      "Epoch 114/200\n",
      "108/108 [==============================] - 62s 539ms/step - loss: 0.1359 - iou_score: 0.8814 - val_loss: 0.1694 - val_iou_score: 0.8528\n",
      "Epoch 115/200\n",
      "108/108 [==============================] - 63s 537ms/step - loss: 0.1381 - iou_score: 0.8790 - val_loss: 0.2933 - val_iou_score: 0.7292\n",
      "Epoch 116/200\n",
      "108/108 [==============================] - 62s 536ms/step - loss: 0.1496 - iou_score: 0.8684 - val_loss: 0.1636 - val_iou_score: 0.8606\n",
      "Epoch 117/200\n",
      "108/108 [==============================] - 62s 536ms/step - loss: 0.1287 - iou_score: 0.8869 - val_loss: 0.1613 - val_iou_score: 0.8625\n",
      "Epoch 118/200\n",
      "108/108 [==============================] - 63s 531ms/step - loss: 0.1507 - iou_score: 0.8681 - val_loss: 0.1810 - val_iou_score: 0.8434\n",
      "Epoch 119/200\n",
      "108/108 [==============================] - 62s 539ms/step - loss: 0.1441 - iou_score: 0.8740 - val_loss: 0.1668 - val_iou_score: 0.8563\n",
      "Epoch 120/200\n",
      "108/108 [==============================] - 62s 533ms/step - loss: 0.1357 - iou_score: 0.8809 - val_loss: 0.1731 - val_iou_score: 0.8479\n",
      "Epoch 121/200\n",
      "108/108 [==============================] - 62s 536ms/step - loss: 0.1386 - iou_score: 0.8792 - val_loss: 0.2434 - val_iou_score: 0.7947\n",
      "Epoch 122/200\n",
      "108/108 [==============================] - 62s 541ms/step - loss: 0.1416 - iou_score: 0.8761 - val_loss: 0.1683 - val_iou_score: 0.8576\n",
      "Epoch 123/200\n",
      "108/108 [==============================] - 62s 538ms/step - loss: 0.1353 - iou_score: 0.8809 - val_loss: 0.1791 - val_iou_score: 0.8457\n",
      "Epoch 124/200\n",
      "108/108 [==============================] - 62s 535ms/step - loss: 0.1514 - iou_score: 0.8667 - val_loss: 0.1749 - val_iou_score: 0.8493\n",
      "Epoch 125/200\n",
      "108/108 [==============================] - 62s 536ms/step - loss: 0.1350 - iou_score: 0.8812 - val_loss: 0.1716 - val_iou_score: 0.8504\n",
      "Epoch 126/200\n",
      "108/108 [==============================] - 61s 530ms/step - loss: 0.1355 - iou_score: 0.8814 - val_loss: 0.1646 - val_iou_score: 0.8564\n",
      "Epoch 127/200\n",
      "108/108 [==============================] - 62s 534ms/step - loss: 0.1317 - iou_score: 0.8843 - val_loss: 0.1642 - val_iou_score: 0.8539\n",
      "Epoch 128/200\n",
      "108/108 [==============================] - 62s 538ms/step - loss: 0.1289 - iou_score: 0.8872 - val_loss: 0.2307 - val_iou_score: 0.8009\n",
      "Epoch 129/200\n",
      "108/108 [==============================] - 62s 535ms/step - loss: 0.1569 - iou_score: 0.8631 - val_loss: 0.1839 - val_iou_score: 0.8230\n",
      "Epoch 130/200\n",
      "108/108 [==============================] - 63s 532ms/step - loss: 0.1420 - iou_score: 0.8750 - val_loss: 0.1747 - val_iou_score: 0.8477\n",
      "Epoch 131/200\n",
      "108/108 [==============================] - 62s 537ms/step - loss: 0.1364 - iou_score: 0.8804 - val_loss: 0.1769 - val_iou_score: 0.8298\n",
      "Epoch 132/200\n",
      "108/108 [==============================] - 61s 534ms/step - loss: 0.1438 - iou_score: 0.8737 - val_loss: 0.1794 - val_iou_score: 0.8487\n",
      "Epoch 133/200\n",
      "108/108 [==============================] - 62s 542ms/step - loss: 0.1381 - iou_score: 0.8788 - val_loss: 0.1647 - val_iou_score: 0.8587\n",
      "Epoch 134/200\n",
      "108/108 [==============================] - 62s 536ms/step - loss: 0.1296 - iou_score: 0.8863 - val_loss: 0.3060 - val_iou_score: 0.7429\n",
      "Epoch 135/200\n",
      "108/108 [==============================] - 63s 539ms/step - loss: 0.1379 - iou_score: 0.8786 - val_loss: 0.1766 - val_iou_score: 0.8494\n",
      "Epoch 136/200\n",
      "108/108 [==============================] - 62s 534ms/step - loss: 0.1242 - iou_score: 0.8904 - val_loss: 0.1638 - val_iou_score: 0.8608\n",
      "Epoch 137/200\n",
      "108/108 [==============================] - 62s 535ms/step - loss: 0.1329 - iou_score: 0.8831 - val_loss: 0.1704 - val_iou_score: 0.8478\n",
      "Epoch 138/200\n",
      "108/108 [==============================] - 61s 531ms/step - loss: 0.1270 - iou_score: 0.8882 - val_loss: 0.1626 - val_iou_score: 0.8504\n",
      "Epoch 139/200\n",
      "108/108 [==============================] - 62s 540ms/step - loss: 0.1245 - iou_score: 0.8904 - val_loss: 0.1766 - val_iou_score: 0.8498\n",
      "Epoch 140/200\n",
      "108/108 [==============================] - 61s 531ms/step - loss: 0.1375 - iou_score: 0.8794 - val_loss: 0.1645 - val_iou_score: 0.8593\n",
      "Epoch 141/200\n",
      "108/108 [==============================] - 63s 535ms/step - loss: 0.1319 - iou_score: 0.8839 - val_loss: 0.1612 - val_iou_score: 0.8618\n",
      "Epoch 142/200\n",
      "108/108 [==============================] - 62s 540ms/step - loss: 0.1262 - iou_score: 0.8891 - val_loss: 0.1543 - val_iou_score: 0.8676\n",
      "Epoch 143/200\n",
      "108/108 [==============================] - 62s 540ms/step - loss: 0.1251 - iou_score: 0.8903 - val_loss: 0.1552 - val_iou_score: 0.8643\n",
      "Epoch 144/200\n",
      "108/108 [==============================] - 62s 535ms/step - loss: 0.1234 - iou_score: 0.8911 - val_loss: 0.1701 - val_iou_score: 0.8539\n",
      "Epoch 145/200\n",
      "108/108 [==============================] - 63s 540ms/step - loss: 0.1394 - iou_score: 0.8775 - val_loss: 0.1866 - val_iou_score: 0.8387\n",
      "Epoch 146/200\n",
      "108/108 [==============================] - 62s 540ms/step - loss: 0.1374 - iou_score: 0.8790 - val_loss: 0.1684 - val_iou_score: 0.8554\n",
      "Epoch 147/200\n",
      "108/108 [==============================] - 61s 530ms/step - loss: 0.1296 - iou_score: 0.8860 - val_loss: 0.1703 - val_iou_score: 0.8528\n",
      "Epoch 148/200\n",
      "108/108 [==============================] - 61s 532ms/step - loss: 0.1277 - iou_score: 0.8879 - val_loss: 0.1674 - val_iou_score: 0.8533\n",
      "Epoch 149/200\n",
      "108/108 [==============================] - 62s 537ms/step - loss: 0.1287 - iou_score: 0.8867 - val_loss: 0.2082 - val_iou_score: 0.8219\n",
      "Epoch 150/200\n",
      "108/108 [==============================] - 61s 532ms/step - loss: 0.1371 - iou_score: 0.8800 - val_loss: 0.2457 - val_iou_score: 0.7899\n",
      "Epoch 151/200\n",
      "108/108 [==============================] - 63s 532ms/step - loss: 0.1560 - iou_score: 0.8633 - val_loss: 0.2038 - val_iou_score: 0.8085\n",
      "Epoch 152/200\n",
      "108/108 [==============================] - 62s 541ms/step - loss: 0.1444 - iou_score: 0.8732 - val_loss: 0.1665 - val_iou_score: 0.8565\n",
      "Epoch 153/200\n",
      "108/108 [==============================] - 62s 542ms/step - loss: 0.1314 - iou_score: 0.8846 - val_loss: 0.1614 - val_iou_score: 0.8608\n",
      "Epoch 154/200\n",
      "108/108 [==============================] - 63s 542ms/step - loss: 0.1291 - iou_score: 0.8858 - val_loss: 0.1697 - val_iou_score: 0.8555\n",
      "Epoch 155/200\n",
      "108/108 [==============================] - 62s 536ms/step - loss: 0.1339 - iou_score: 0.8834 - val_loss: 0.1719 - val_iou_score: 0.8519\n",
      "Epoch 156/200\n",
      "108/108 [==============================] - 63s 537ms/step - loss: 0.1287 - iou_score: 0.8871 - val_loss: 0.1748 - val_iou_score: 0.8476\n",
      "Epoch 157/200\n",
      "108/108 [==============================] - 62s 532ms/step - loss: 0.1257 - iou_score: 0.8895 - val_loss: 0.1740 - val_iou_score: 0.8477\n",
      "Epoch 158/200\n",
      "108/108 [==============================] - 61s 535ms/step - loss: 0.1257 - iou_score: 0.8889 - val_loss: 0.1648 - val_iou_score: 0.8592\n",
      "Epoch 159/200\n",
      "108/108 [==============================] - 62s 532ms/step - loss: 0.1206 - iou_score: 0.8940 - val_loss: 0.1795 - val_iou_score: 0.8454\n",
      "Epoch 160/200\n",
      "108/108 [==============================] - 63s 534ms/step - loss: 0.1262 - iou_score: 0.8892 - val_loss: 0.1885 - val_iou_score: 0.8218\n",
      "Epoch 161/200\n",
      "108/108 [==============================] - 62s 541ms/step - loss: 0.1214 - iou_score: 0.8927 - val_loss: 0.1801 - val_iou_score: 0.8441\n",
      "Epoch 162/200\n",
      "108/108 [==============================] - 63s 541ms/step - loss: 0.1231 - iou_score: 0.8912 - val_loss: 0.1797 - val_iou_score: 0.8466\n",
      "Epoch 163/200\n",
      "108/108 [==============================] - 63s 541ms/step - loss: 0.1299 - iou_score: 0.8862 - val_loss: 0.2081 - val_iou_score: 0.8229\n",
      "Epoch 164/200\n",
      "108/108 [==============================] - 62s 537ms/step - loss: 0.1293 - iou_score: 0.8863 - val_loss: 0.1721 - val_iou_score: 0.8543\n",
      "Epoch 165/200\n",
      "108/108 [==============================] - 62s 533ms/step - loss: 0.1327 - iou_score: 0.8833 - val_loss: 0.2022 - val_iou_score: 0.8250\n",
      "Epoch 166/200\n",
      "108/108 [==============================] - 62s 535ms/step - loss: 0.1293 - iou_score: 0.8859 - val_loss: 0.1917 - val_iou_score: 0.8347\n",
      "Epoch 167/200\n",
      "108/108 [==============================] - 62s 543ms/step - loss: 0.1319 - iou_score: 0.8836 - val_loss: 0.1822 - val_iou_score: 0.8247\n",
      "Epoch 168/200\n",
      "108/108 [==============================] - 61s 530ms/step - loss: 0.1264 - iou_score: 0.8883 - val_loss: 0.1768 - val_iou_score: 0.8300\n",
      "Epoch 169/200\n",
      "108/108 [==============================] - 63s 536ms/step - loss: 0.1250 - iou_score: 0.8906 - val_loss: 0.1892 - val_iou_score: 0.8402\n",
      "Epoch 170/200\n",
      "108/108 [==============================] - 62s 539ms/step - loss: 0.1233 - iou_score: 0.8906 - val_loss: 0.1688 - val_iou_score: 0.8574\n",
      "Epoch 171/200\n",
      "108/108 [==============================] - 63s 543ms/step - loss: 0.1192 - iou_score: 0.8948 - val_loss: 0.1576 - val_iou_score: 0.8588\n",
      "Epoch 172/200\n",
      "108/108 [==============================] - 63s 540ms/step - loss: 0.1157 - iou_score: 0.8979 - val_loss: 0.1678 - val_iou_score: 0.8536\n",
      "Epoch 173/200\n",
      "108/108 [==============================] - 62s 538ms/step - loss: 0.1316 - iou_score: 0.8841 - val_loss: 0.1730 - val_iou_score: 0.8478\n",
      "Epoch 174/200\n",
      "108/108 [==============================] - 62s 537ms/step - loss: 0.1459 - iou_score: 0.8728 - val_loss: 0.1869 - val_iou_score: 0.8401\n",
      "Epoch 175/200\n",
      "108/108 [==============================] - 62s 535ms/step - loss: 0.1325 - iou_score: 0.8831 - val_loss: 0.1636 - val_iou_score: 0.8598\n",
      "Epoch 176/200\n",
      "108/108 [==============================] - 62s 541ms/step - loss: 0.1170 - iou_score: 0.8970 - val_loss: 0.1603 - val_iou_score: 0.8631\n",
      "Epoch 177/200\n",
      "108/108 [==============================] - 61s 531ms/step - loss: 0.1369 - iou_score: 0.8802 - val_loss: 0.1735 - val_iou_score: 0.8490\n",
      "Epoch 178/200\n",
      "108/108 [==============================] - 63s 535ms/step - loss: 0.1350 - iou_score: 0.8817 - val_loss: 0.1861 - val_iou_score: 0.8375\n",
      "Epoch 179/200\n",
      "108/108 [==============================] - 63s 544ms/step - loss: 0.1369 - iou_score: 0.8794 - val_loss: 0.1718 - val_iou_score: 0.8479\n",
      "Epoch 180/200\n",
      "108/108 [==============================] - 62s 543ms/step - loss: 0.1278 - iou_score: 0.8877 - val_loss: 0.1864 - val_iou_score: 0.8412\n",
      "Epoch 181/200\n",
      "108/108 [==============================] - 62s 543ms/step - loss: 0.1281 - iou_score: 0.8876 - val_loss: 0.1570 - val_iou_score: 0.8646\n",
      "Epoch 182/200\n",
      "108/108 [==============================] - 62s 540ms/step - loss: 0.1221 - iou_score: 0.8926 - val_loss: 0.1873 - val_iou_score: 0.8406\n",
      "Epoch 183/200\n",
      "108/108 [==============================] - 62s 538ms/step - loss: 0.1165 - iou_score: 0.8973 - val_loss: 0.1671 - val_iou_score: 0.8573\n",
      "Epoch 184/200\n",
      "108/108 [==============================] - 62s 540ms/step - loss: 0.1196 - iou_score: 0.8945 - val_loss: 0.1673 - val_iou_score: 0.8556\n",
      "Epoch 185/200\n",
      "108/108 [==============================] - 61s 531ms/step - loss: 0.1216 - iou_score: 0.8934 - val_loss: 0.1583 - val_iou_score: 0.8646\n",
      "Epoch 186/200\n",
      "108/108 [==============================] - 64s 536ms/step - loss: 0.1105 - iou_score: 0.9026 - val_loss: 0.1608 - val_iou_score: 0.8629\n",
      "Epoch 187/200\n",
      "108/108 [==============================] - 63s 541ms/step - loss: 0.1208 - iou_score: 0.8937 - val_loss: 0.1623 - val_iou_score: 0.8626\n",
      "Epoch 188/200\n",
      "108/108 [==============================] - 62s 539ms/step - loss: 0.1131 - iou_score: 0.9004 - val_loss: 0.1633 - val_iou_score: 0.8418\n",
      "Epoch 189/200\n",
      "108/108 [==============================] - 62s 540ms/step - loss: 0.1165 - iou_score: 0.8978 - val_loss: 0.1598 - val_iou_score: 0.8631\n",
      "Epoch 190/200\n",
      "108/108 [==============================] - 62s 539ms/step - loss: 0.1151 - iou_score: 0.8986 - val_loss: 0.1757 - val_iou_score: 0.8486\n",
      "Epoch 191/200\n",
      "108/108 [==============================] - 61s 533ms/step - loss: 0.1173 - iou_score: 0.8966 - val_loss: 0.1629 - val_iou_score: 0.8613\n",
      "Epoch 192/200\n",
      "108/108 [==============================] - 62s 540ms/step - loss: 0.1408 - iou_score: 0.8768 - val_loss: 0.1876 - val_iou_score: 0.8416\n",
      "Epoch 193/200\n",
      "108/108 [==============================] - 61s 530ms/step - loss: 0.1212 - iou_score: 0.8931 - val_loss: 0.1601 - val_iou_score: 0.8649\n",
      "Epoch 194/200\n",
      "108/108 [==============================] - 63s 533ms/step - loss: 0.1177 - iou_score: 0.8961 - val_loss: 0.1740 - val_iou_score: 0.8526\n",
      "Epoch 195/200\n",
      "108/108 [==============================] - 63s 542ms/step - loss: 0.1382 - iou_score: 0.8810 - val_loss: 0.1685 - val_iou_score: 0.8570\n",
      "Epoch 196/200\n",
      "108/108 [==============================] - 62s 542ms/step - loss: 0.1266 - iou_score: 0.8887 - val_loss: 0.1693 - val_iou_score: 0.8519\n",
      "Epoch 197/200\n",
      "108/108 [==============================] - 63s 544ms/step - loss: 0.1231 - iou_score: 0.8917 - val_loss: 0.1788 - val_iou_score: 0.8483\n",
      "Epoch 198/200\n",
      "108/108 [==============================] - 61s 533ms/step - loss: 0.1169 - iou_score: 0.8970 - val_loss: 0.1655 - val_iou_score: 0.8593\n",
      "Epoch 199/200\n",
      "108/108 [==============================] - 62s 534ms/step - loss: 0.1089 - iou_score: 0.9038 - val_loss: 0.1631 - val_iou_score: 0.8598\n",
      "Epoch 200/200\n",
      "108/108 [==============================] - 63s 543ms/step - loss: 0.1113 - iou_score: 0.9021 - val_loss: 0.1674 - val_iou_score: 0.8547\n"
     ]
    }
   ],
   "source": [
    "history = model.fit(\n",
    "   train_dataset,\n",
    "   epochs=200,\n",
    "   validation_data=valid_dataset\n",
    ")"
   ]
  },
  {
   "cell_type": "code",
   "execution_count": null,
   "id": "premier-arnold",
   "metadata": {
    "papermill": {
     "duration": 5.999486,
     "end_time": "2021-06-08T21:31:37.238284",
     "exception": false,
     "start_time": "2021-06-08T21:31:31.238798",
     "status": "completed"
    },
    "tags": []
   },
   "outputs": [],
   "source": []
  },
  {
   "cell_type": "markdown",
   "id": "ruled-benchmark",
   "metadata": {
    "papermill": {
     "duration": 5.943772,
     "end_time": "2021-06-08T21:31:49.214902",
     "exception": false,
     "start_time": "2021-06-08T21:31:43.271130",
     "status": "completed"
    },
    "tags": []
   },
   "source": [
    "# TESTING"
   ]
  },
  {
   "cell_type": "code",
   "execution_count": 38,
   "id": "compliant-franklin",
   "metadata": {
    "execution": {
     "iopub.execute_input": "2021-06-08T21:32:01.843231Z",
     "iopub.status.busy": "2021-06-08T21:32:01.830454Z",
     "iopub.status.idle": "2021-06-08T21:32:01.849555Z",
     "shell.execute_reply": "2021-06-08T21:32:01.850014Z"
    },
    "papermill": {
     "duration": 6.569395,
     "end_time": "2021-06-08T21:32:01.850246",
     "exception": false,
     "start_time": "2021-06-08T21:31:55.280851",
     "status": "completed"
    },
    "tags": []
   },
   "outputs": [
    {
     "ename": "NameError",
     "evalue": "name 'df_sample' is not defined",
     "output_type": "error",
     "traceback": [
      "\u001b[0;31m---------------------------------------------------------------------------\u001b[0m",
      "\u001b[0;31mNameError\u001b[0m                                 Traceback (most recent call last)",
      "\u001b[0;32m<ipython-input-38-477232e63bb9>\u001b[0m in \u001b[0;36m<module>\u001b[0;34m\u001b[0m\n\u001b[1;32m      1\u001b[0m \u001b[0;31m# STARTER CODE GOT FROM SOMEWHERE ELSE. STILL WORKING ON IT.\u001b[0m\u001b[0;34m\u001b[0m\u001b[0;34m\u001b[0m\u001b[0;34m\u001b[0m\u001b[0m\n\u001b[1;32m      2\u001b[0m \u001b[0mnames\u001b[0m\u001b[0;34m,\u001b[0m\u001b[0mpreds\u001b[0m \u001b[0;34m=\u001b[0m \u001b[0;34m[\u001b[0m\u001b[0;34m]\u001b[0m\u001b[0;34m,\u001b[0m\u001b[0;34m[\u001b[0m\u001b[0;34m]\u001b[0m\u001b[0;34m\u001b[0m\u001b[0;34m\u001b[0m\u001b[0m\n\u001b[0;32m----> 3\u001b[0;31m \u001b[0;32mfor\u001b[0m \u001b[0midx\u001b[0m\u001b[0;34m,\u001b[0m\u001b[0mrow\u001b[0m \u001b[0;32min\u001b[0m \u001b[0mtqdm\u001b[0m\u001b[0;34m(\u001b[0m\u001b[0mdf_sample\u001b[0m\u001b[0;34m.\u001b[0m\u001b[0miterrows\u001b[0m\u001b[0;34m(\u001b[0m\u001b[0;34m)\u001b[0m\u001b[0;34m,\u001b[0m\u001b[0mtotal\u001b[0m\u001b[0;34m=\u001b[0m\u001b[0mlen\u001b[0m\u001b[0;34m(\u001b[0m\u001b[0mdf_sample\u001b[0m\u001b[0;34m)\u001b[0m\u001b[0;34m)\u001b[0m\u001b[0;34m:\u001b[0m\u001b[0;34m\u001b[0m\u001b[0;34m\u001b[0m\u001b[0m\n\u001b[0m\u001b[1;32m      4\u001b[0m     \u001b[0midx\u001b[0m \u001b[0;34m=\u001b[0m \u001b[0mrow\u001b[0m\u001b[0;34m[\u001b[0m\u001b[0;34m'id'\u001b[0m\u001b[0;34m]\u001b[0m\u001b[0;34m\u001b[0m\u001b[0;34m\u001b[0m\u001b[0m\n\u001b[1;32m      5\u001b[0m     \u001b[0mds\u001b[0m \u001b[0;34m=\u001b[0m \u001b[0mHuBMAPDataset\u001b[0m\u001b[0;34m(\u001b[0m\u001b[0midx\u001b[0m\u001b[0;34m)\u001b[0m\u001b[0;34m\u001b[0m\u001b[0;34m\u001b[0m\u001b[0m\n",
      "\u001b[0;31mNameError\u001b[0m: name 'df_sample' is not defined"
     ]
    }
   ],
   "source": [
    "# STARTER CODE GOT FROM SOMEWHERE ELSE. STILL WORKING ON IT.\n",
    "names,preds = [],[]\n",
    "for idx,row in tqdm(df_sample.iterrows(),total=len(df_sample)):\n",
    "    idx = row['id']\n",
    "    ds = HuBMAPDataset(idx)\n",
    "    #rasterio cannot be used with multiple workers\n",
    "    dl = DataLoader(ds,bs,num_workers=0,shuffle=False,pin_memory=True)\n",
    "    mp = Model_pred(models,dl)\n",
    "    #generate masks\n",
    "    mask = torch.zeros(len(ds),ds.sz,ds.sz,dtype=torch.int8)\n",
    "    for p,i in iter(mp): mask[i.item()] = p.squeeze(-1) > TH\n",
    "    \n",
    "    #reshape tiled masks into a single mask and crop padding\n",
    "    mask = mask.view(ds.n0max,ds.n1max,ds.sz,ds.sz).\\\n",
    "        permute(0,2,1,3).reshape(ds.n0max*ds.sz,ds.n1max*ds.sz)\n",
    "    mask = mask[ds.pad0//2:-(ds.pad0-ds.pad0//2) if ds.pad0 > 0 else ds.n0max*ds.sz,\n",
    "        ds.pad1//2:-(ds.pad1-ds.pad1//2) if ds.pad1 > 0 else ds.n1max*ds.sz]\n",
    "    \n",
    "    #convert to rle\n",
    "    #https://www.kaggle.com/bguberfain/memory-aware-rle-encoding\n",
    "    rle = rle_encode_less_memory(mask.numpy())\n",
    "    names.append(idx)\n",
    "    preds.append(rle)\n",
    "    del mask, ds, dl\n",
    "    gc.collect()"
   ]
  }
 ],
 "metadata": {
  "kernelspec": {
   "display_name": "Python 3",
   "language": "python",
   "name": "python3"
  },
  "language_info": {
   "codemirror_mode": {
    "name": "ipython",
    "version": 3
   },
   "file_extension": ".py",
   "mimetype": "text/x-python",
   "name": "python",
   "nbconvert_exporter": "python",
   "pygments_lexer": "ipython3",
   "version": "3.7.9"
  },
  "papermill": {
   "default_parameters": {},
   "duration": 13958.975383,
   "end_time": "2021-06-08T21:32:12.574215",
   "environment_variables": {},
   "exception": null,
   "input_path": "__notebook__.ipynb",
   "output_path": "__notebook__.ipynb",
   "parameters": {},
   "start_time": "2021-06-08T17:39:33.598832",
   "version": "2.3.2"
  },
  "widgets": {
   "application/vnd.jupyter.widget-state+json": {
    "state": {
     "03efbb217d4545b29ef3fa5d4dd30865": {
      "model_module": "@jupyter-widgets/controls",
      "model_module_version": "1.5.0",
      "model_name": "ProgressStyleModel",
      "state": {
       "_model_module": "@jupyter-widgets/controls",
       "_model_module_version": "1.5.0",
       "_model_name": "ProgressStyleModel",
       "_view_count": null,
       "_view_module": "@jupyter-widgets/base",
       "_view_module_version": "1.2.0",
       "_view_name": "StyleView",
       "bar_color": null,
       "description_width": ""
      }
     },
     "09cfdb88c1ff48b7a7aeeb7a60006291": {
      "model_module": "@jupyter-widgets/base",
      "model_module_version": "1.2.0",
      "model_name": "LayoutModel",
      "state": {
       "_model_module": "@jupyter-widgets/base",
       "_model_module_version": "1.2.0",
       "_model_name": "LayoutModel",
       "_view_count": null,
       "_view_module": "@jupyter-widgets/base",
       "_view_module_version": "1.2.0",
       "_view_name": "LayoutView",
       "align_content": null,
       "align_items": null,
       "align_self": null,
       "border": null,
       "bottom": null,
       "display": null,
       "flex": null,
       "flex_flow": null,
       "grid_area": null,
       "grid_auto_columns": null,
       "grid_auto_flow": null,
       "grid_auto_rows": null,
       "grid_column": null,
       "grid_gap": null,
       "grid_row": null,
       "grid_template_areas": null,
       "grid_template_columns": null,
       "grid_template_rows": null,
       "height": null,
       "justify_content": null,
       "justify_items": null,
       "left": null,
       "margin": null,
       "max_height": null,
       "max_width": null,
       "min_height": null,
       "min_width": null,
       "object_fit": null,
       "object_position": null,
       "order": null,
       "overflow": null,
       "overflow_x": null,
       "overflow_y": null,
       "padding": null,
       "right": null,
       "top": null,
       "visibility": null,
       "width": null
      }
     },
     "34fe7b988bec41c495a74491e07a1743": {
      "model_module": "@jupyter-widgets/controls",
      "model_module_version": "1.5.0",
      "model_name": "ProgressStyleModel",
      "state": {
       "_model_module": "@jupyter-widgets/controls",
       "_model_module_version": "1.5.0",
       "_model_name": "ProgressStyleModel",
       "_view_count": null,
       "_view_module": "@jupyter-widgets/base",
       "_view_module_version": "1.2.0",
       "_view_name": "StyleView",
       "bar_color": null,
       "description_width": ""
      }
     },
     "43e96210db85428e90d9cc7a886d2632": {
      "model_module": "@jupyter-widgets/base",
      "model_module_version": "1.2.0",
      "model_name": "LayoutModel",
      "state": {
       "_model_module": "@jupyter-widgets/base",
       "_model_module_version": "1.2.0",
       "_model_name": "LayoutModel",
       "_view_count": null,
       "_view_module": "@jupyter-widgets/base",
       "_view_module_version": "1.2.0",
       "_view_name": "LayoutView",
       "align_content": null,
       "align_items": null,
       "align_self": null,
       "border": null,
       "bottom": null,
       "display": null,
       "flex": null,
       "flex_flow": null,
       "grid_area": null,
       "grid_auto_columns": null,
       "grid_auto_flow": null,
       "grid_auto_rows": null,
       "grid_column": null,
       "grid_gap": null,
       "grid_row": null,
       "grid_template_areas": null,
       "grid_template_columns": null,
       "grid_template_rows": null,
       "height": null,
       "justify_content": null,
       "justify_items": null,
       "left": null,
       "margin": null,
       "max_height": null,
       "max_width": null,
       "min_height": null,
       "min_width": null,
       "object_fit": null,
       "object_position": null,
       "order": null,
       "overflow": null,
       "overflow_x": null,
       "overflow_y": null,
       "padding": null,
       "right": null,
       "top": null,
       "visibility": null,
       "width": null
      }
     },
     "4a16f5bbf9cb4b2fa7f6245b6a62dfb4": {
      "model_module": "@jupyter-widgets/controls",
      "model_module_version": "1.5.0",
      "model_name": "FloatProgressModel",
      "state": {
       "_dom_classes": [],
       "_model_module": "@jupyter-widgets/controls",
       "_model_module_version": "1.5.0",
       "_model_name": "FloatProgressModel",
       "_view_count": null,
       "_view_module": "@jupyter-widgets/controls",
       "_view_module_version": "1.5.0",
       "_view_name": "ProgressView",
       "bar_style": "success",
       "description": "",
       "description_tooltip": null,
       "layout": "IPY_MODEL_f109c41ae56d43059ef6ca17174656ec",
       "max": 15.0,
       "min": 0.0,
       "orientation": "horizontal",
       "style": "IPY_MODEL_03efbb217d4545b29ef3fa5d4dd30865",
       "value": 15.0
      }
     },
     "4de6eb16c6e949088446b5c27c3537cb": {
      "model_module": "@jupyter-widgets/base",
      "model_module_version": "1.2.0",
      "model_name": "LayoutModel",
      "state": {
       "_model_module": "@jupyter-widgets/base",
       "_model_module_version": "1.2.0",
       "_model_name": "LayoutModel",
       "_view_count": null,
       "_view_module": "@jupyter-widgets/base",
       "_view_module_version": "1.2.0",
       "_view_name": "LayoutView",
       "align_content": null,
       "align_items": null,
       "align_self": null,
       "border": null,
       "bottom": null,
       "display": null,
       "flex": null,
       "flex_flow": null,
       "grid_area": null,
       "grid_auto_columns": null,
       "grid_auto_flow": null,
       "grid_auto_rows": null,
       "grid_column": null,
       "grid_gap": null,
       "grid_row": null,
       "grid_template_areas": null,
       "grid_template_columns": null,
       "grid_template_rows": null,
       "height": null,
       "justify_content": null,
       "justify_items": null,
       "left": null,
       "margin": null,
       "max_height": null,
       "max_width": null,
       "min_height": null,
       "min_width": null,
       "object_fit": null,
       "object_position": null,
       "order": null,
       "overflow": null,
       "overflow_x": null,
       "overflow_y": null,
       "padding": null,
       "right": null,
       "top": null,
       "visibility": null,
       "width": null
      }
     },
     "609a5736b81a4963816dff3dccb4851a": {
      "model_module": "@jupyter-widgets/controls",
      "model_module_version": "1.5.0",
      "model_name": "HBoxModel",
      "state": {
       "_dom_classes": [],
       "_model_module": "@jupyter-widgets/controls",
       "_model_module_version": "1.5.0",
       "_model_name": "HBoxModel",
       "_view_count": null,
       "_view_module": "@jupyter-widgets/controls",
       "_view_module_version": "1.5.0",
       "_view_name": "HBoxView",
       "box_style": "",
       "children": [
        "IPY_MODEL_ab9699dc82564c5786dcb0e95e16bc3c",
        "IPY_MODEL_4a16f5bbf9cb4b2fa7f6245b6a62dfb4",
        "IPY_MODEL_6c9f51568e224075b09c6935c536f7f0"
       ],
       "layout": "IPY_MODEL_43e96210db85428e90d9cc7a886d2632"
      }
     },
     "6c9f51568e224075b09c6935c536f7f0": {
      "model_module": "@jupyter-widgets/controls",
      "model_module_version": "1.5.0",
      "model_name": "HTMLModel",
      "state": {
       "_dom_classes": [],
       "_model_module": "@jupyter-widgets/controls",
       "_model_module_version": "1.5.0",
       "_model_name": "HTMLModel",
       "_view_count": null,
       "_view_module": "@jupyter-widgets/controls",
       "_view_module_version": "1.5.0",
       "_view_name": "HTMLView",
       "description": "",
       "description_tooltip": null,
       "layout": "IPY_MODEL_09cfdb88c1ff48b7a7aeeb7a60006291",
       "placeholder": "​",
       "style": "IPY_MODEL_b2ab5354c2d940d4bbdc7c12dc786cad",
       "value": " 15/15 [12:10&lt;00:00, 58.49s/it]"
      }
     },
     "74ab1f64b5054ce9af6069906ba64ea6": {
      "model_module": "@jupyter-widgets/base",
      "model_module_version": "1.2.0",
      "model_name": "LayoutModel",
      "state": {
       "_model_module": "@jupyter-widgets/base",
       "_model_module_version": "1.2.0",
       "_model_name": "LayoutModel",
       "_view_count": null,
       "_view_module": "@jupyter-widgets/base",
       "_view_module_version": "1.2.0",
       "_view_name": "LayoutView",
       "align_content": null,
       "align_items": null,
       "align_self": null,
       "border": null,
       "bottom": null,
       "display": null,
       "flex": null,
       "flex_flow": null,
       "grid_area": null,
       "grid_auto_columns": null,
       "grid_auto_flow": null,
       "grid_auto_rows": null,
       "grid_column": null,
       "grid_gap": null,
       "grid_row": null,
       "grid_template_areas": null,
       "grid_template_columns": null,
       "grid_template_rows": null,
       "height": null,
       "justify_content": null,
       "justify_items": null,
       "left": null,
       "margin": null,
       "max_height": null,
       "max_width": null,
       "min_height": null,
       "min_width": null,
       "object_fit": null,
       "object_position": null,
       "order": null,
       "overflow": null,
       "overflow_x": null,
       "overflow_y": null,
       "padding": null,
       "right": null,
       "top": null,
       "visibility": null,
       "width": null
      }
     },
     "8af55f3e0e1d4de180bf32779f2b6cbd": {
      "model_module": "@jupyter-widgets/controls",
      "model_module_version": "1.5.0",
      "model_name": "HBoxModel",
      "state": {
       "_dom_classes": [],
       "_model_module": "@jupyter-widgets/controls",
       "_model_module_version": "1.5.0",
       "_model_name": "HBoxModel",
       "_view_count": null,
       "_view_module": "@jupyter-widgets/controls",
       "_view_module_version": "1.5.0",
       "_view_name": "HBoxView",
       "box_style": "",
       "children": [
        "IPY_MODEL_a224d3195bf14c38ac0a4a170fdb2f26",
        "IPY_MODEL_dd50b97674ee43a49eda6e85681a98ed",
        "IPY_MODEL_f80895c676f64bed9e3645b700c7a111"
       ],
       "layout": "IPY_MODEL_74ab1f64b5054ce9af6069906ba64ea6"
      }
     },
     "9a4a718e3a644b1c863c3473ffad7e06": {
      "model_module": "@jupyter-widgets/controls",
      "model_module_version": "1.5.0",
      "model_name": "DescriptionStyleModel",
      "state": {
       "_model_module": "@jupyter-widgets/controls",
       "_model_module_version": "1.5.0",
       "_model_name": "DescriptionStyleModel",
       "_view_count": null,
       "_view_module": "@jupyter-widgets/base",
       "_view_module_version": "1.2.0",
       "_view_name": "StyleView",
       "description_width": ""
      }
     },
     "a224d3195bf14c38ac0a4a170fdb2f26": {
      "model_module": "@jupyter-widgets/controls",
      "model_module_version": "1.5.0",
      "model_name": "HTMLModel",
      "state": {
       "_dom_classes": [],
       "_model_module": "@jupyter-widgets/controls",
       "_model_module_version": "1.5.0",
       "_model_name": "HTMLModel",
       "_view_count": null,
       "_view_module": "@jupyter-widgets/controls",
       "_view_module_version": "1.5.0",
       "_view_name": "HTMLView",
       "description": "",
       "description_tooltip": null,
       "layout": "IPY_MODEL_d6cd8fcf623b46a6a3266e5b55caab28",
       "placeholder": "​",
       "style": "IPY_MODEL_cd3b236f7d014247ab01ea225ca880f4",
       "value": "100%"
      }
     },
     "a407226f73524fecba68c60d6ba43f8a": {
      "model_module": "@jupyter-widgets/base",
      "model_module_version": "1.2.0",
      "model_name": "LayoutModel",
      "state": {
       "_model_module": "@jupyter-widgets/base",
       "_model_module_version": "1.2.0",
       "_model_name": "LayoutModel",
       "_view_count": null,
       "_view_module": "@jupyter-widgets/base",
       "_view_module_version": "1.2.0",
       "_view_name": "LayoutView",
       "align_content": null,
       "align_items": null,
       "align_self": null,
       "border": null,
       "bottom": null,
       "display": null,
       "flex": null,
       "flex_flow": null,
       "grid_area": null,
       "grid_auto_columns": null,
       "grid_auto_flow": null,
       "grid_auto_rows": null,
       "grid_column": null,
       "grid_gap": null,
       "grid_row": null,
       "grid_template_areas": null,
       "grid_template_columns": null,
       "grid_template_rows": null,
       "height": null,
       "justify_content": null,
       "justify_items": null,
       "left": null,
       "margin": null,
       "max_height": null,
       "max_width": null,
       "min_height": null,
       "min_width": null,
       "object_fit": null,
       "object_position": null,
       "order": null,
       "overflow": null,
       "overflow_x": null,
       "overflow_y": null,
       "padding": null,
       "right": null,
       "top": null,
       "visibility": null,
       "width": null
      }
     },
     "ab9699dc82564c5786dcb0e95e16bc3c": {
      "model_module": "@jupyter-widgets/controls",
      "model_module_version": "1.5.0",
      "model_name": "HTMLModel",
      "state": {
       "_dom_classes": [],
       "_model_module": "@jupyter-widgets/controls",
       "_model_module_version": "1.5.0",
       "_model_name": "HTMLModel",
       "_view_count": null,
       "_view_module": "@jupyter-widgets/controls",
       "_view_module_version": "1.5.0",
       "_view_name": "HTMLView",
       "description": "",
       "description_tooltip": null,
       "layout": "IPY_MODEL_a407226f73524fecba68c60d6ba43f8a",
       "placeholder": "​",
       "style": "IPY_MODEL_9a4a718e3a644b1c863c3473ffad7e06",
       "value": "100%"
      }
     },
     "b2ab5354c2d940d4bbdc7c12dc786cad": {
      "model_module": "@jupyter-widgets/controls",
      "model_module_version": "1.5.0",
      "model_name": "DescriptionStyleModel",
      "state": {
       "_model_module": "@jupyter-widgets/controls",
       "_model_module_version": "1.5.0",
       "_model_name": "DescriptionStyleModel",
       "_view_count": null,
       "_view_module": "@jupyter-widgets/base",
       "_view_module_version": "1.2.0",
       "_view_name": "StyleView",
       "description_width": ""
      }
     },
     "cd3b236f7d014247ab01ea225ca880f4": {
      "model_module": "@jupyter-widgets/controls",
      "model_module_version": "1.5.0",
      "model_name": "DescriptionStyleModel",
      "state": {
       "_model_module": "@jupyter-widgets/controls",
       "_model_module_version": "1.5.0",
       "_model_name": "DescriptionStyleModel",
       "_view_count": null,
       "_view_module": "@jupyter-widgets/base",
       "_view_module_version": "1.2.0",
       "_view_name": "StyleView",
       "description_width": ""
      }
     },
     "d6cd8fcf623b46a6a3266e5b55caab28": {
      "model_module": "@jupyter-widgets/base",
      "model_module_version": "1.2.0",
      "model_name": "LayoutModel",
      "state": {
       "_model_module": "@jupyter-widgets/base",
       "_model_module_version": "1.2.0",
       "_model_name": "LayoutModel",
       "_view_count": null,
       "_view_module": "@jupyter-widgets/base",
       "_view_module_version": "1.2.0",
       "_view_name": "LayoutView",
       "align_content": null,
       "align_items": null,
       "align_self": null,
       "border": null,
       "bottom": null,
       "display": null,
       "flex": null,
       "flex_flow": null,
       "grid_area": null,
       "grid_auto_columns": null,
       "grid_auto_flow": null,
       "grid_auto_rows": null,
       "grid_column": null,
       "grid_gap": null,
       "grid_row": null,
       "grid_template_areas": null,
       "grid_template_columns": null,
       "grid_template_rows": null,
       "height": null,
       "justify_content": null,
       "justify_items": null,
       "left": null,
       "margin": null,
       "max_height": null,
       "max_width": null,
       "min_height": null,
       "min_width": null,
       "object_fit": null,
       "object_position": null,
       "order": null,
       "overflow": null,
       "overflow_x": null,
       "overflow_y": null,
       "padding": null,
       "right": null,
       "top": null,
       "visibility": null,
       "width": null
      }
     },
     "dc941b6aa2294dec90f38fd1ded45890": {
      "model_module": "@jupyter-widgets/base",
      "model_module_version": "1.2.0",
      "model_name": "LayoutModel",
      "state": {
       "_model_module": "@jupyter-widgets/base",
       "_model_module_version": "1.2.0",
       "_model_name": "LayoutModel",
       "_view_count": null,
       "_view_module": "@jupyter-widgets/base",
       "_view_module_version": "1.2.0",
       "_view_name": "LayoutView",
       "align_content": null,
       "align_items": null,
       "align_self": null,
       "border": null,
       "bottom": null,
       "display": null,
       "flex": null,
       "flex_flow": null,
       "grid_area": null,
       "grid_auto_columns": null,
       "grid_auto_flow": null,
       "grid_auto_rows": null,
       "grid_column": null,
       "grid_gap": null,
       "grid_row": null,
       "grid_template_areas": null,
       "grid_template_columns": null,
       "grid_template_rows": null,
       "height": null,
       "justify_content": null,
       "justify_items": null,
       "left": null,
       "margin": null,
       "max_height": null,
       "max_width": null,
       "min_height": null,
       "min_width": null,
       "object_fit": null,
       "object_position": null,
       "order": null,
       "overflow": null,
       "overflow_x": null,
       "overflow_y": null,
       "padding": null,
       "right": null,
       "top": null,
       "visibility": null,
       "width": null
      }
     },
     "dd50b97674ee43a49eda6e85681a98ed": {
      "model_module": "@jupyter-widgets/controls",
      "model_module_version": "1.5.0",
      "model_name": "FloatProgressModel",
      "state": {
       "_dom_classes": [],
       "_model_module": "@jupyter-widgets/controls",
       "_model_module_version": "1.5.0",
       "_model_name": "FloatProgressModel",
       "_view_count": null,
       "_view_module": "@jupyter-widgets/controls",
       "_view_module_version": "1.5.0",
       "_view_name": "ProgressView",
       "bar_style": "success",
       "description": "",
       "description_tooltip": null,
       "layout": "IPY_MODEL_dc941b6aa2294dec90f38fd1ded45890",
       "max": 15.0,
       "min": 0.0,
       "orientation": "horizontal",
       "style": "IPY_MODEL_34fe7b988bec41c495a74491e07a1743",
       "value": 15.0
      }
     },
     "f109c41ae56d43059ef6ca17174656ec": {
      "model_module": "@jupyter-widgets/base",
      "model_module_version": "1.2.0",
      "model_name": "LayoutModel",
      "state": {
       "_model_module": "@jupyter-widgets/base",
       "_model_module_version": "1.2.0",
       "_model_name": "LayoutModel",
       "_view_count": null,
       "_view_module": "@jupyter-widgets/base",
       "_view_module_version": "1.2.0",
       "_view_name": "LayoutView",
       "align_content": null,
       "align_items": null,
       "align_self": null,
       "border": null,
       "bottom": null,
       "display": null,
       "flex": null,
       "flex_flow": null,
       "grid_area": null,
       "grid_auto_columns": null,
       "grid_auto_flow": null,
       "grid_auto_rows": null,
       "grid_column": null,
       "grid_gap": null,
       "grid_row": null,
       "grid_template_areas": null,
       "grid_template_columns": null,
       "grid_template_rows": null,
       "height": null,
       "justify_content": null,
       "justify_items": null,
       "left": null,
       "margin": null,
       "max_height": null,
       "max_width": null,
       "min_height": null,
       "min_width": null,
       "object_fit": null,
       "object_position": null,
       "order": null,
       "overflow": null,
       "overflow_x": null,
       "overflow_y": null,
       "padding": null,
       "right": null,
       "top": null,
       "visibility": null,
       "width": null
      }
     },
     "f80895c676f64bed9e3645b700c7a111": {
      "model_module": "@jupyter-widgets/controls",
      "model_module_version": "1.5.0",
      "model_name": "HTMLModel",
      "state": {
       "_dom_classes": [],
       "_model_module": "@jupyter-widgets/controls",
       "_model_module_version": "1.5.0",
       "_model_name": "HTMLModel",
       "_view_count": null,
       "_view_module": "@jupyter-widgets/controls",
       "_view_module_version": "1.5.0",
       "_view_name": "HTMLView",
       "description": "",
       "description_tooltip": null,
       "layout": "IPY_MODEL_4de6eb16c6e949088446b5c27c3537cb",
       "placeholder": "​",
       "style": "IPY_MODEL_fbf39528e49442de8dad93a10386a52d",
       "value": " 15/15 [10:34&lt;00:00, 50.07s/it]"
      }
     },
     "fbf39528e49442de8dad93a10386a52d": {
      "model_module": "@jupyter-widgets/controls",
      "model_module_version": "1.5.0",
      "model_name": "DescriptionStyleModel",
      "state": {
       "_model_module": "@jupyter-widgets/controls",
       "_model_module_version": "1.5.0",
       "_model_name": "DescriptionStyleModel",
       "_view_count": null,
       "_view_module": "@jupyter-widgets/base",
       "_view_module_version": "1.2.0",
       "_view_name": "StyleView",
       "description_width": ""
      }
     }
    },
    "version_major": 2,
    "version_minor": 0
   }
  }
 },
 "nbformat": 4,
 "nbformat_minor": 5
}
